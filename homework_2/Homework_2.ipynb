{
 "cells": [
  {
   "cell_type": "code",
   "execution_count": 1,
   "id": "b573bbe6-5bf5-4343-bf2b-40a1cde35ee6",
   "metadata": {},
   "outputs": [],
   "source": [
    "%load_ext autoreload\n",
    "%autoreload 2"
   ]
  },
  {
   "cell_type": "code",
   "execution_count": 13,
   "id": "965a340a-35c1-49ce-b6a4-309629d756fa",
   "metadata": {},
   "outputs": [
    {
     "name": "stderr",
     "output_type": "stream",
     "text": [
      "2022/05/31 14:51:05 INFO mlflow.tracking.fluent: Experiment with name 'random-forest-best-models' does not exist. Creating a new experiment.\n"
     ]
    }
   ],
   "source": [
    "import sys\n",
    "sys.path.append(\".\")\n",
    "import mlflow\n",
    "import preprocess_data\n",
    "import train\n",
    "import hpo\n",
    "import register_model"
   ]
  },
  {
   "cell_type": "markdown",
   "id": "9b35a1c3-5db6-4a8a-bcd8-bc722fb705fb",
   "metadata": {},
   "source": [
    "## Q2: 4"
   ]
  },
  {
   "cell_type": "code",
   "execution_count": 3,
   "id": "20400a3e-a439-4297-a160-e9cb13fe46b5",
   "metadata": {},
   "outputs": [],
   "source": [
    "preprocess_data.run(raw_data_path='../data', dest_path='./output')"
   ]
  },
  {
   "cell_type": "markdown",
   "id": "e58735f6-a9ab-42af-957a-9ed41a68fca6",
   "metadata": {},
   "source": [
    "## Q3 : 17"
   ]
  },
  {
   "cell_type": "code",
   "execution_count": 4,
   "id": "31183030-7bfa-4ace-95da-2e6953e30584",
   "metadata": {},
   "outputs": [
    {
     "data": {
      "text/plain": [
       "<Experiment: artifact_location='./mlruns/1', experiment_id='1', lifecycle_stage='active', name='homework-2', tags={}>"
      ]
     },
     "execution_count": 4,
     "metadata": {},
     "output_type": "execute_result"
    }
   ],
   "source": [
    "mlflow.set_tracking_uri(\"sqlite:///mlflow.db\")\n",
    "mlflow.set_experiment(\"homework-2\")"
   ]
  },
  {
   "cell_type": "code",
   "execution_count": 5,
   "id": "462c8c95-fbf5-492c-b7da-b07a4f7d4562",
   "metadata": {},
   "outputs": [
    {
     "name": "stderr",
     "output_type": "stream",
     "text": [
      "2022/05/30 17:50:13 WARNING mlflow.utils.autologging_utils: MLflow autologging encountered a warning: \"/Users/enrico.dilello/.local/share/virtualenvs/02-experiment-tracking-XNKmtgr9/lib/python3.9/site-packages/_distutils_hack/__init__.py:30: UserWarning: Setuptools is replacing distutils.\"\n"
     ]
    }
   ],
   "source": [
    "train.run('./output')"
   ]
  },
  {
   "cell_type": "markdown",
   "id": "de36bccb-cd95-489b-86b5-8521f13c0b2a",
   "metadata": {},
   "source": [
    "## Q4 : "
   ]
  },
  {
   "cell_type": "markdown",
   "id": "b766a6e9-31ce-4c3c-8c1f-c098f5c11060",
   "metadata": {},
   "source": [
    "``mlflow ui --backend-store-uri sqlite:///mlflow.db --default-artifact-root ./artifacts``"
   ]
  },
  {
   "cell_type": "markdown",
   "id": "a28f7198-4e73-4dd1-a846-2e6c18ab08ae",
   "metadata": {},
   "source": [
    "## Q5 : 6.628"
   ]
  },
  {
   "cell_type": "code",
   "execution_count": 11,
   "id": "b9879edf-547c-4bb8-920b-c40ebfd7b2ca",
   "metadata": {},
   "outputs": [
    {
     "name": "stdout",
     "output_type": "stream",
     "text": [
      "  0%|                                                                                                                                                              | 0/50 [00:00<?, ?trial/s, best loss=?]"
     ]
    },
    {
     "name": "stderr",
     "output_type": "stream",
     "text": [
      "2022/05/31 14:36:41 WARNING mlflow.utils.autologging_utils: Encountered unexpected error during sklearn autologging: The following failures occurred while performing one or more logging operations: [MlflowException('Failed to perform one or more operations on the run with ID bb818ea79b644dfbb3f03cb484d1ca54. Failed operations: [RestException(\"INVALID_PARAMETER_VALUE: Changing param values is not allowed. Params were already logged=\\'[{\\'key\\': \\'bootstrap\\', \\'old_value\\': None, \\'new_value\\': \\'True\\'}, {\\'key\\': \\'ccp_alpha\\', \\'old_value\\': None, \\'new_value\\': \\'0.0\\'}, {\\'key\\': \\'criterion\\', \\'old_value\\': None, \\'new_value\\': \\'squared_error\\'}, {\\'key\\': \\'max_features\\', \\'old_value\\': None, \\'new_value\\': \\'1.0\\'}, {\\'key\\': \\'max_leaf_nodes\\', \\'old_value\\': None, \\'new_value\\': \\'None\\'}, {\\'key\\': \\'max_samples\\', \\'old_value\\': None, \\'new_value\\': \\'None\\'}, {\\'key\\': \\'min_impurity_decrease\\', \\'old_value\\': None, \\'new_value\\': \\'0.0\\'}, {\\'key\\': \\'min_weight_fraction_leaf\\', \\'old_value\\': None, \\'new_value\\': \\'0.0\\'}, {\\'key\\': \\'n_jobs\\', \\'old_value\\': None, \\'new_value\\': \\'None\\'}, {\\'key\\': \\'oob_score\\', \\'old_value\\': None, \\'new_value\\': \\'False\\'}, {\\'key\\': \\'verbose\\', \\'old_value\\': None, \\'new_value\\': \\'0\\'}, {\\'key\\': \\'warm_start\\', \\'old_value\\': None, \\'new_value\\': \\'False\\'}]\\' for run ID=\\'bb818ea79b644dfbb3f03cb484d1ca54\\'.\")]')]\n",
      "\n"
     ]
    },
    {
     "name": "stdout",
     "output_type": "stream",
     "text": [
      "  2%|██▋                                                                                                                                  | 1/50 [00:10<08:57, 10.96s/trial, best loss: 6.658956269343007]"
     ]
    },
    {
     "name": "stderr",
     "output_type": "stream",
     "text": [
      "2022/05/31 14:36:43 WARNING mlflow.utils.autologging_utils: Encountered unexpected error during sklearn autologging: The following failures occurred while performing one or more logging operations: [MlflowException('Failed to perform one or more operations on the run with ID 25c596bf7bfb4386b53aaa26630701ed. Failed operations: [RestException(\"INVALID_PARAMETER_VALUE: Changing param values is not allowed. Params were already logged=\\'[{\\'key\\': \\'bootstrap\\', \\'old_value\\': None, \\'new_value\\': \\'True\\'}, {\\'key\\': \\'ccp_alpha\\', \\'old_value\\': None, \\'new_value\\': \\'0.0\\'}, {\\'key\\': \\'criterion\\', \\'old_value\\': None, \\'new_value\\': \\'squared_error\\'}, {\\'key\\': \\'max_features\\', \\'old_value\\': None, \\'new_value\\': \\'1.0\\'}, {\\'key\\': \\'max_leaf_nodes\\', \\'old_value\\': None, \\'new_value\\': \\'None\\'}, {\\'key\\': \\'max_samples\\', \\'old_value\\': None, \\'new_value\\': \\'None\\'}, {\\'key\\': \\'min_impurity_decrease\\', \\'old_value\\': None, \\'new_value\\': \\'0.0\\'}, {\\'key\\': \\'min_weight_fraction_leaf\\', \\'old_value\\': None, \\'new_value\\': \\'0.0\\'}, {\\'key\\': \\'n_jobs\\', \\'old_value\\': None, \\'new_value\\': \\'None\\'}, {\\'key\\': \\'oob_score\\', \\'old_value\\': None, \\'new_value\\': \\'False\\'}, {\\'key\\': \\'verbose\\', \\'old_value\\': None, \\'new_value\\': \\'0\\'}, {\\'key\\': \\'warm_start\\', \\'old_value\\': None, \\'new_value\\': \\'False\\'}]\\' for run ID=\\'25c596bf7bfb4386b53aaa26630701ed\\'.\")]')]\n",
      "\n"
     ]
    },
    {
     "name": "stdout",
     "output_type": "stream",
     "text": [
      "  4%|█████▎                                                                                                                               | 2/50 [00:12<04:32,  5.68s/trial, best loss: 6.658956269343007]"
     ]
    },
    {
     "name": "stderr",
     "output_type": "stream",
     "text": [
      "2022/05/31 14:36:45 WARNING mlflow.utils.autologging_utils: Encountered unexpected error during sklearn autologging: The following failures occurred while performing one or more logging operations: [MlflowException('Failed to perform one or more operations on the run with ID 923b7a6d1774461cb0bf282cc5914955. Failed operations: [RestException(\"INVALID_PARAMETER_VALUE: Changing param values is not allowed. Params were already logged=\\'[{\\'key\\': \\'bootstrap\\', \\'old_value\\': None, \\'new_value\\': \\'True\\'}, {\\'key\\': \\'ccp_alpha\\', \\'old_value\\': None, \\'new_value\\': \\'0.0\\'}, {\\'key\\': \\'criterion\\', \\'old_value\\': None, \\'new_value\\': \\'squared_error\\'}, {\\'key\\': \\'max_features\\', \\'old_value\\': None, \\'new_value\\': \\'1.0\\'}, {\\'key\\': \\'max_leaf_nodes\\', \\'old_value\\': None, \\'new_value\\': \\'None\\'}, {\\'key\\': \\'max_samples\\', \\'old_value\\': None, \\'new_value\\': \\'None\\'}, {\\'key\\': \\'min_impurity_decrease\\', \\'old_value\\': None, \\'new_value\\': \\'0.0\\'}, {\\'key\\': \\'min_weight_fraction_leaf\\', \\'old_value\\': None, \\'new_value\\': \\'0.0\\'}, {\\'key\\': \\'n_jobs\\', \\'old_value\\': None, \\'new_value\\': \\'None\\'}, {\\'key\\': \\'oob_score\\', \\'old_value\\': None, \\'new_value\\': \\'False\\'}, {\\'key\\': \\'verbose\\', \\'old_value\\': None, \\'new_value\\': \\'0\\'}, {\\'key\\': \\'warm_start\\', \\'old_value\\': None, \\'new_value\\': \\'False\\'}]\\' for run ID=\\'923b7a6d1774461cb0bf282cc5914955\\'.\")]')]\n",
      "\n"
     ]
    },
    {
     "name": "stdout",
     "output_type": "stream",
     "text": [
      "  6%|███████▉                                                                                                                             | 3/50 [00:15<03:14,  4.13s/trial, best loss: 6.658956269343007]"
     ]
    },
    {
     "name": "stderr",
     "output_type": "stream",
     "text": [
      "2022/05/31 14:36:52 WARNING mlflow.utils.autologging_utils: Encountered unexpected error during sklearn autologging: The following failures occurred while performing one or more logging operations: [MlflowException('Failed to perform one or more operations on the run with ID 9f1a84020fc54c4e9ac8b65e521a7445. Failed operations: [RestException(\"INVALID_PARAMETER_VALUE: Changing param values is not allowed. Params were already logged=\\'[{\\'key\\': \\'bootstrap\\', \\'old_value\\': None, \\'new_value\\': \\'True\\'}, {\\'key\\': \\'ccp_alpha\\', \\'old_value\\': None, \\'new_value\\': \\'0.0\\'}, {\\'key\\': \\'criterion\\', \\'old_value\\': None, \\'new_value\\': \\'squared_error\\'}, {\\'key\\': \\'max_features\\', \\'old_value\\': None, \\'new_value\\': \\'1.0\\'}, {\\'key\\': \\'max_leaf_nodes\\', \\'old_value\\': None, \\'new_value\\': \\'None\\'}, {\\'key\\': \\'max_samples\\', \\'old_value\\': None, \\'new_value\\': \\'None\\'}, {\\'key\\': \\'min_impurity_decrease\\', \\'old_value\\': None, \\'new_value\\': \\'0.0\\'}, {\\'key\\': \\'min_weight_fraction_leaf\\', \\'old_value\\': None, \\'new_value\\': \\'0.0\\'}, {\\'key\\': \\'n_jobs\\', \\'old_value\\': None, \\'new_value\\': \\'None\\'}, {\\'key\\': \\'oob_score\\', \\'old_value\\': None, \\'new_value\\': \\'False\\'}, {\\'key\\': \\'verbose\\', \\'old_value\\': None, \\'new_value\\': \\'0\\'}, {\\'key\\': \\'warm_start\\', \\'old_value\\': None, \\'new_value\\': \\'False\\'}]\\' for run ID=\\'9f1a84020fc54c4e9ac8b65e521a7445\\'.\")]')]\n",
      "\n"
     ]
    },
    {
     "name": "stdout",
     "output_type": "stream",
     "text": [
      "  8%|██████████▋                                                                                                                          | 4/50 [00:22<04:08,  5.41s/trial, best loss: 6.651438559376775]"
     ]
    },
    {
     "name": "stderr",
     "output_type": "stream",
     "text": [
      "2022/05/31 14:36:57 WARNING mlflow.utils.autologging_utils: Encountered unexpected error during sklearn autologging: The following failures occurred while performing one or more logging operations: [MlflowException('Failed to perform one or more operations on the run with ID 18d38a2af88f4c4c85932549f4f374ee. Failed operations: [RestException(\"INVALID_PARAMETER_VALUE: Changing param values is not allowed. Params were already logged=\\'[{\\'key\\': \\'bootstrap\\', \\'old_value\\': None, \\'new_value\\': \\'True\\'}, {\\'key\\': \\'ccp_alpha\\', \\'old_value\\': None, \\'new_value\\': \\'0.0\\'}, {\\'key\\': \\'criterion\\', \\'old_value\\': None, \\'new_value\\': \\'squared_error\\'}, {\\'key\\': \\'max_features\\', \\'old_value\\': None, \\'new_value\\': \\'1.0\\'}, {\\'key\\': \\'max_leaf_nodes\\', \\'old_value\\': None, \\'new_value\\': \\'None\\'}, {\\'key\\': \\'max_samples\\', \\'old_value\\': None, \\'new_value\\': \\'None\\'}, {\\'key\\': \\'min_impurity_decrease\\', \\'old_value\\': None, \\'new_value\\': \\'0.0\\'}, {\\'key\\': \\'min_weight_fraction_leaf\\', \\'old_value\\': None, \\'new_value\\': \\'0.0\\'}, {\\'key\\': \\'n_jobs\\', \\'old_value\\': None, \\'new_value\\': \\'None\\'}, {\\'key\\': \\'oob_score\\', \\'old_value\\': None, \\'new_value\\': \\'False\\'}, {\\'key\\': \\'verbose\\', \\'old_value\\': None, \\'new_value\\': \\'0\\'}, {\\'key\\': \\'warm_start\\', \\'old_value\\': None, \\'new_value\\': \\'False\\'}]\\' for run ID=\\'18d38a2af88f4c4c85932549f4f374ee\\'.\")]')]\n",
      "\n"
     ]
    },
    {
     "name": "stdout",
     "output_type": "stream",
     "text": [
      " 10%|█████████████▎                                                                                                                       | 5/50 [00:27<03:48,  5.07s/trial, best loss: 6.651438559376775]"
     ]
    },
    {
     "name": "stderr",
     "output_type": "stream",
     "text": [
      "2022/05/31 14:37:08 WARNING mlflow.utils.autologging_utils: Encountered unexpected error during sklearn autologging: The following failures occurred while performing one or more logging operations: [MlflowException('Failed to perform one or more operations on the run with ID 984160703e3648feb0109d40f7a28c25. Failed operations: [RestException(\"INVALID_PARAMETER_VALUE: Changing param values is not allowed. Params were already logged=\\'[{\\'key\\': \\'bootstrap\\', \\'old_value\\': None, \\'new_value\\': \\'True\\'}, {\\'key\\': \\'ccp_alpha\\', \\'old_value\\': None, \\'new_value\\': \\'0.0\\'}, {\\'key\\': \\'criterion\\', \\'old_value\\': None, \\'new_value\\': \\'squared_error\\'}, {\\'key\\': \\'max_features\\', \\'old_value\\': None, \\'new_value\\': \\'1.0\\'}, {\\'key\\': \\'max_leaf_nodes\\', \\'old_value\\': None, \\'new_value\\': \\'None\\'}, {\\'key\\': \\'max_samples\\', \\'old_value\\': None, \\'new_value\\': \\'None\\'}, {\\'key\\': \\'min_impurity_decrease\\', \\'old_value\\': None, \\'new_value\\': \\'0.0\\'}, {\\'key\\': \\'min_weight_fraction_leaf\\', \\'old_value\\': None, \\'new_value\\': \\'0.0\\'}, {\\'key\\': \\'n_jobs\\', \\'old_value\\': None, \\'new_value\\': \\'None\\'}, {\\'key\\': \\'oob_score\\', \\'old_value\\': None, \\'new_value\\': \\'False\\'}, {\\'key\\': \\'verbose\\', \\'old_value\\': None, \\'new_value\\': \\'0\\'}, {\\'key\\': \\'warm_start\\', \\'old_value\\': None, \\'new_value\\': \\'False\\'}]\\' for run ID=\\'984160703e3648feb0109d40f7a28c25\\'.\")]')]\n",
      "\n"
     ]
    },
    {
     "name": "stdout",
     "output_type": "stream",
     "text": [
      " 12%|███████████████▉                                                                                                                     | 6/50 [00:38<05:19,  7.26s/trial, best loss: 6.651438559376775]"
     ]
    },
    {
     "name": "stderr",
     "output_type": "stream",
     "text": [
      "2022/05/31 14:37:21 WARNING mlflow.utils.autologging_utils: Encountered unexpected error during sklearn autologging: The following failures occurred while performing one or more logging operations: [MlflowException('Failed to perform one or more operations on the run with ID 5075441efaae407f8039e0cac5e0549f. Failed operations: [RestException(\"INVALID_PARAMETER_VALUE: Changing param values is not allowed. Params were already logged=\\'[{\\'key\\': \\'bootstrap\\', \\'old_value\\': None, \\'new_value\\': \\'True\\'}, {\\'key\\': \\'ccp_alpha\\', \\'old_value\\': None, \\'new_value\\': \\'0.0\\'}, {\\'key\\': \\'criterion\\', \\'old_value\\': None, \\'new_value\\': \\'squared_error\\'}, {\\'key\\': \\'max_features\\', \\'old_value\\': None, \\'new_value\\': \\'1.0\\'}, {\\'key\\': \\'max_leaf_nodes\\', \\'old_value\\': None, \\'new_value\\': \\'None\\'}, {\\'key\\': \\'max_samples\\', \\'old_value\\': None, \\'new_value\\': \\'None\\'}, {\\'key\\': \\'min_impurity_decrease\\', \\'old_value\\': None, \\'new_value\\': \\'0.0\\'}, {\\'key\\': \\'min_weight_fraction_leaf\\', \\'old_value\\': None, \\'new_value\\': \\'0.0\\'}, {\\'key\\': \\'n_jobs\\', \\'old_value\\': None, \\'new_value\\': \\'None\\'}, {\\'key\\': \\'oob_score\\', \\'old_value\\': None, \\'new_value\\': \\'False\\'}, {\\'key\\': \\'verbose\\', \\'old_value\\': None, \\'new_value\\': \\'0\\'}, {\\'key\\': \\'warm_start\\', \\'old_value\\': None, \\'new_value\\': \\'False\\'}]\\' for run ID=\\'5075441efaae407f8039e0cac5e0549f\\'.\")]')]\n",
      "\n"
     ]
    },
    {
     "name": "stdout",
     "output_type": "stream",
     "text": [
      " 14%|██████████████████▌                                                                                                                  | 7/50 [00:51<06:30,  9.07s/trial, best loss: 6.651438559376775]"
     ]
    },
    {
     "name": "stderr",
     "output_type": "stream",
     "text": [
      "2022/05/31 14:37:24 WARNING mlflow.utils.autologging_utils: Encountered unexpected error during sklearn autologging: The following failures occurred while performing one or more logging operations: [MlflowException('Failed to perform one or more operations on the run with ID f4365c81dc714f63a42393aa2e7f80ff. Failed operations: [RestException(\"INVALID_PARAMETER_VALUE: Changing param values is not allowed. Params were already logged=\\'[{\\'key\\': \\'bootstrap\\', \\'old_value\\': None, \\'new_value\\': \\'True\\'}, {\\'key\\': \\'ccp_alpha\\', \\'old_value\\': None, \\'new_value\\': \\'0.0\\'}, {\\'key\\': \\'criterion\\', \\'old_value\\': None, \\'new_value\\': \\'squared_error\\'}, {\\'key\\': \\'max_features\\', \\'old_value\\': None, \\'new_value\\': \\'1.0\\'}, {\\'key\\': \\'max_leaf_nodes\\', \\'old_value\\': None, \\'new_value\\': \\'None\\'}, {\\'key\\': \\'max_samples\\', \\'old_value\\': None, \\'new_value\\': \\'None\\'}, {\\'key\\': \\'min_impurity_decrease\\', \\'old_value\\': None, \\'new_value\\': \\'0.0\\'}, {\\'key\\': \\'min_weight_fraction_leaf\\', \\'old_value\\': None, \\'new_value\\': \\'0.0\\'}, {\\'key\\': \\'n_jobs\\', \\'old_value\\': None, \\'new_value\\': \\'None\\'}, {\\'key\\': \\'oob_score\\', \\'old_value\\': None, \\'new_value\\': \\'False\\'}, {\\'key\\': \\'verbose\\', \\'old_value\\': None, \\'new_value\\': \\'0\\'}, {\\'key\\': \\'warm_start\\', \\'old_value\\': None, \\'new_value\\': \\'False\\'}]\\' for run ID=\\'f4365c81dc714f63a42393aa2e7f80ff\\'.\")]')]\n",
      "\n"
     ]
    },
    {
     "name": "stdout",
     "output_type": "stream",
     "text": [
      " 16%|█████████████████████▎                                                                                                               | 8/50 [00:54<04:59,  7.14s/trial, best loss: 6.651438559376775]"
     ]
    },
    {
     "name": "stderr",
     "output_type": "stream",
     "text": [
      "2022/05/31 14:37:33 WARNING mlflow.utils.autologging_utils: Encountered unexpected error during sklearn autologging: The following failures occurred while performing one or more logging operations: [MlflowException('Failed to perform one or more operations on the run with ID f5c16be74bd140278536fc9551e1870b. Failed operations: [RestException(\"INVALID_PARAMETER_VALUE: Changing param values is not allowed. Params were already logged=\\'[{\\'key\\': \\'bootstrap\\', \\'old_value\\': None, \\'new_value\\': \\'True\\'}, {\\'key\\': \\'ccp_alpha\\', \\'old_value\\': None, \\'new_value\\': \\'0.0\\'}, {\\'key\\': \\'criterion\\', \\'old_value\\': None, \\'new_value\\': \\'squared_error\\'}, {\\'key\\': \\'max_features\\', \\'old_value\\': None, \\'new_value\\': \\'1.0\\'}, {\\'key\\': \\'max_leaf_nodes\\', \\'old_value\\': None, \\'new_value\\': \\'None\\'}, {\\'key\\': \\'max_samples\\', \\'old_value\\': None, \\'new_value\\': \\'None\\'}, {\\'key\\': \\'min_impurity_decrease\\', \\'old_value\\': None, \\'new_value\\': \\'0.0\\'}, {\\'key\\': \\'min_weight_fraction_leaf\\', \\'old_value\\': None, \\'new_value\\': \\'0.0\\'}, {\\'key\\': \\'n_jobs\\', \\'old_value\\': None, \\'new_value\\': \\'None\\'}, {\\'key\\': \\'oob_score\\', \\'old_value\\': None, \\'new_value\\': \\'False\\'}, {\\'key\\': \\'verbose\\', \\'old_value\\': None, \\'new_value\\': \\'0\\'}, {\\'key\\': \\'warm_start\\', \\'old_value\\': None, \\'new_value\\': \\'False\\'}]\\' for run ID=\\'f5c16be74bd140278536fc9551e1870b\\'.\")]')]\n",
      "\n"
     ]
    },
    {
     "name": "stdout",
     "output_type": "stream",
     "text": [
      " 18%|███████████████████████▉                                                                                                             | 9/50 [01:02<05:10,  7.58s/trial, best loss: 6.651438559376775]"
     ]
    },
    {
     "name": "stderr",
     "output_type": "stream",
     "text": [
      "2022/05/31 14:37:39 WARNING mlflow.utils.autologging_utils: Encountered unexpected error during sklearn autologging: The following failures occurred while performing one or more logging operations: [MlflowException('Failed to perform one or more operations on the run with ID ad08e95a53904d92953e5948c801bca9. Failed operations: [RestException(\"INVALID_PARAMETER_VALUE: Changing param values is not allowed. Params were already logged=\\'[{\\'key\\': \\'bootstrap\\', \\'old_value\\': None, \\'new_value\\': \\'True\\'}, {\\'key\\': \\'ccp_alpha\\', \\'old_value\\': None, \\'new_value\\': \\'0.0\\'}, {\\'key\\': \\'criterion\\', \\'old_value\\': None, \\'new_value\\': \\'squared_error\\'}, {\\'key\\': \\'max_features\\', \\'old_value\\': None, \\'new_value\\': \\'1.0\\'}, {\\'key\\': \\'max_leaf_nodes\\', \\'old_value\\': None, \\'new_value\\': \\'None\\'}, {\\'key\\': \\'max_samples\\', \\'old_value\\': None, \\'new_value\\': \\'None\\'}, {\\'key\\': \\'min_impurity_decrease\\', \\'old_value\\': None, \\'new_value\\': \\'0.0\\'}, {\\'key\\': \\'min_weight_fraction_leaf\\', \\'old_value\\': None, \\'new_value\\': \\'0.0\\'}, {\\'key\\': \\'n_jobs\\', \\'old_value\\': None, \\'new_value\\': \\'None\\'}, {\\'key\\': \\'oob_score\\', \\'old_value\\': None, \\'new_value\\': \\'False\\'}, {\\'key\\': \\'verbose\\', \\'old_value\\': None, \\'new_value\\': \\'0\\'}, {\\'key\\': \\'warm_start\\', \\'old_value\\': None, \\'new_value\\': \\'False\\'}]\\' for run ID=\\'ad08e95a53904d92953e5948c801bca9\\'.\")]')]\n",
      "\n"
     ]
    },
    {
     "name": "stdout",
     "output_type": "stream",
     "text": [
      " 20%|██████████████████████████▍                                                                                                         | 10/50 [01:09<04:53,  7.33s/trial, best loss: 6.651438559376775]"
     ]
    },
    {
     "name": "stderr",
     "output_type": "stream",
     "text": [
      "2022/05/31 14:37:45 WARNING mlflow.utils.autologging_utils: Encountered unexpected error during sklearn autologging: The following failures occurred while performing one or more logging operations: [MlflowException('Failed to perform one or more operations on the run with ID 7dfe766cd46c4a4783a29342e3283188. Failed operations: [RestException(\"INVALID_PARAMETER_VALUE: Changing param values is not allowed. Params were already logged=\\'[{\\'key\\': \\'bootstrap\\', \\'old_value\\': None, \\'new_value\\': \\'True\\'}, {\\'key\\': \\'ccp_alpha\\', \\'old_value\\': None, \\'new_value\\': \\'0.0\\'}, {\\'key\\': \\'criterion\\', \\'old_value\\': None, \\'new_value\\': \\'squared_error\\'}, {\\'key\\': \\'max_features\\', \\'old_value\\': None, \\'new_value\\': \\'1.0\\'}, {\\'key\\': \\'max_leaf_nodes\\', \\'old_value\\': None, \\'new_value\\': \\'None\\'}, {\\'key\\': \\'max_samples\\', \\'old_value\\': None, \\'new_value\\': \\'None\\'}, {\\'key\\': \\'min_impurity_decrease\\', \\'old_value\\': None, \\'new_value\\': \\'0.0\\'}, {\\'key\\': \\'min_weight_fraction_leaf\\', \\'old_value\\': None, \\'new_value\\': \\'0.0\\'}, {\\'key\\': \\'n_jobs\\', \\'old_value\\': None, \\'new_value\\': \\'None\\'}, {\\'key\\': \\'oob_score\\', \\'old_value\\': None, \\'new_value\\': \\'False\\'}, {\\'key\\': \\'verbose\\', \\'old_value\\': None, \\'new_value\\': \\'0\\'}, {\\'key\\': \\'warm_start\\', \\'old_value\\': None, \\'new_value\\': \\'False\\'}]\\' for run ID=\\'7dfe766cd46c4a4783a29342e3283188\\'.\")]')]\n",
      "\n"
     ]
    },
    {
     "name": "stdout",
     "output_type": "stream",
     "text": [
      " 22%|█████████████████████████████                                                                                                       | 11/50 [01:15<04:23,  6.75s/trial, best loss: 6.642137287429206]"
     ]
    },
    {
     "name": "stderr",
     "output_type": "stream",
     "text": [
      "2022/05/31 14:37:50 WARNING mlflow.utils.autologging_utils: Encountered unexpected error during sklearn autologging: The following failures occurred while performing one or more logging operations: [MlflowException('Failed to perform one or more operations on the run with ID 276d01b80396410ca1c9071d82281478. Failed operations: [RestException(\"INVALID_PARAMETER_VALUE: Changing param values is not allowed. Params were already logged=\\'[{\\'key\\': \\'bootstrap\\', \\'old_value\\': None, \\'new_value\\': \\'True\\'}, {\\'key\\': \\'ccp_alpha\\', \\'old_value\\': None, \\'new_value\\': \\'0.0\\'}, {\\'key\\': \\'criterion\\', \\'old_value\\': None, \\'new_value\\': \\'squared_error\\'}, {\\'key\\': \\'max_features\\', \\'old_value\\': None, \\'new_value\\': \\'1.0\\'}, {\\'key\\': \\'max_leaf_nodes\\', \\'old_value\\': None, \\'new_value\\': \\'None\\'}, {\\'key\\': \\'max_samples\\', \\'old_value\\': None, \\'new_value\\': \\'None\\'}, {\\'key\\': \\'min_impurity_decrease\\', \\'old_value\\': None, \\'new_value\\': \\'0.0\\'}, {\\'key\\': \\'min_weight_fraction_leaf\\', \\'old_value\\': None, \\'new_value\\': \\'0.0\\'}, {\\'key\\': \\'n_jobs\\', \\'old_value\\': None, \\'new_value\\': \\'None\\'}, {\\'key\\': \\'oob_score\\', \\'old_value\\': None, \\'new_value\\': \\'False\\'}, {\\'key\\': \\'verbose\\', \\'old_value\\': None, \\'new_value\\': \\'0\\'}, {\\'key\\': \\'warm_start\\', \\'old_value\\': None, \\'new_value\\': \\'False\\'}]\\' for run ID=\\'276d01b80396410ca1c9071d82281478\\'.\")]')]\n",
      "\n"
     ]
    },
    {
     "name": "stdout",
     "output_type": "stream",
     "text": [
      " 24%|███████████████████████████████▋                                                                                                    | 12/50 [01:19<03:54,  6.16s/trial, best loss: 6.642137287429206]"
     ]
    },
    {
     "name": "stderr",
     "output_type": "stream",
     "text": [
      "2022/05/31 14:37:52 WARNING mlflow.utils.autologging_utils: Encountered unexpected error during sklearn autologging: The following failures occurred while performing one or more logging operations: [MlflowException('Failed to perform one or more operations on the run with ID cc7e4c1b871245738363a16fe4fe8577. Failed operations: [RestException(\"INVALID_PARAMETER_VALUE: Changing param values is not allowed. Params were already logged=\\'[{\\'key\\': \\'bootstrap\\', \\'old_value\\': None, \\'new_value\\': \\'True\\'}, {\\'key\\': \\'ccp_alpha\\', \\'old_value\\': None, \\'new_value\\': \\'0.0\\'}, {\\'key\\': \\'criterion\\', \\'old_value\\': None, \\'new_value\\': \\'squared_error\\'}, {\\'key\\': \\'max_features\\', \\'old_value\\': None, \\'new_value\\': \\'1.0\\'}, {\\'key\\': \\'max_leaf_nodes\\', \\'old_value\\': None, \\'new_value\\': \\'None\\'}, {\\'key\\': \\'max_samples\\', \\'old_value\\': None, \\'new_value\\': \\'None\\'}, {\\'key\\': \\'min_impurity_decrease\\', \\'old_value\\': None, \\'new_value\\': \\'0.0\\'}, {\\'key\\': \\'min_weight_fraction_leaf\\', \\'old_value\\': None, \\'new_value\\': \\'0.0\\'}, {\\'key\\': \\'n_jobs\\', \\'old_value\\': None, \\'new_value\\': \\'None\\'}, {\\'key\\': \\'oob_score\\', \\'old_value\\': None, \\'new_value\\': \\'False\\'}, {\\'key\\': \\'verbose\\', \\'old_value\\': None, \\'new_value\\': \\'0\\'}, {\\'key\\': \\'warm_start\\', \\'old_value\\': None, \\'new_value\\': \\'False\\'}]\\' for run ID=\\'cc7e4c1b871245738363a16fe4fe8577\\'.\")]')]\n",
      "\n"
     ]
    },
    {
     "name": "stdout",
     "output_type": "stream",
     "text": [
      " 26%|██████████████████████████████████▎                                                                                                 | 13/50 [01:22<03:09,  5.12s/trial, best loss: 6.642137287429206]"
     ]
    },
    {
     "name": "stderr",
     "output_type": "stream",
     "text": [
      "2022/05/31 14:37:58 WARNING mlflow.utils.autologging_utils: Encountered unexpected error during sklearn autologging: The following failures occurred while performing one or more logging operations: [MlflowException('Failed to perform one or more operations on the run with ID 51d87197589a4d469993a6f6b76c7c3e. Failed operations: [RestException(\"INVALID_PARAMETER_VALUE: Changing param values is not allowed. Params were already logged=\\'[{\\'key\\': \\'bootstrap\\', \\'old_value\\': None, \\'new_value\\': \\'True\\'}, {\\'key\\': \\'ccp_alpha\\', \\'old_value\\': None, \\'new_value\\': \\'0.0\\'}, {\\'key\\': \\'criterion\\', \\'old_value\\': None, \\'new_value\\': \\'squared_error\\'}, {\\'key\\': \\'max_features\\', \\'old_value\\': None, \\'new_value\\': \\'1.0\\'}, {\\'key\\': \\'max_leaf_nodes\\', \\'old_value\\': None, \\'new_value\\': \\'None\\'}, {\\'key\\': \\'max_samples\\', \\'old_value\\': None, \\'new_value\\': \\'None\\'}, {\\'key\\': \\'min_impurity_decrease\\', \\'old_value\\': None, \\'new_value\\': \\'0.0\\'}, {\\'key\\': \\'min_weight_fraction_leaf\\', \\'old_value\\': None, \\'new_value\\': \\'0.0\\'}, {\\'key\\': \\'n_jobs\\', \\'old_value\\': None, \\'new_value\\': \\'None\\'}, {\\'key\\': \\'oob_score\\', \\'old_value\\': None, \\'new_value\\': \\'False\\'}, {\\'key\\': \\'verbose\\', \\'old_value\\': None, \\'new_value\\': \\'0\\'}, {\\'key\\': \\'warm_start\\', \\'old_value\\': None, \\'new_value\\': \\'False\\'}]\\' for run ID=\\'51d87197589a4d469993a6f6b76c7c3e\\'.\")]')]\n",
      "\n"
     ]
    },
    {
     "name": "stdout",
     "output_type": "stream",
     "text": [
      " 28%|████████████████████████████████████▉                                                                                               | 14/50 [01:27<03:04,  5.12s/trial, best loss: 6.642137287429206]"
     ]
    },
    {
     "name": "stderr",
     "output_type": "stream",
     "text": [
      "2022/05/31 14:38:05 WARNING mlflow.utils.autologging_utils: Encountered unexpected error during sklearn autologging: The following failures occurred while performing one or more logging operations: [MlflowException('Failed to perform one or more operations on the run with ID a993c7810512452fbc36c67bc4afd423. Failed operations: [RestException(\"INVALID_PARAMETER_VALUE: Changing param values is not allowed. Params were already logged=\\'[{\\'key\\': \\'bootstrap\\', \\'old_value\\': None, \\'new_value\\': \\'True\\'}, {\\'key\\': \\'ccp_alpha\\', \\'old_value\\': None, \\'new_value\\': \\'0.0\\'}, {\\'key\\': \\'criterion\\', \\'old_value\\': None, \\'new_value\\': \\'squared_error\\'}, {\\'key\\': \\'max_features\\', \\'old_value\\': None, \\'new_value\\': \\'1.0\\'}, {\\'key\\': \\'max_leaf_nodes\\', \\'old_value\\': None, \\'new_value\\': \\'None\\'}, {\\'key\\': \\'max_samples\\', \\'old_value\\': None, \\'new_value\\': \\'None\\'}, {\\'key\\': \\'min_impurity_decrease\\', \\'old_value\\': None, \\'new_value\\': \\'0.0\\'}, {\\'key\\': \\'min_weight_fraction_leaf\\', \\'old_value\\': None, \\'new_value\\': \\'0.0\\'}, {\\'key\\': \\'n_jobs\\', \\'old_value\\': None, \\'new_value\\': \\'None\\'}, {\\'key\\': \\'oob_score\\', \\'old_value\\': None, \\'new_value\\': \\'False\\'}, {\\'key\\': \\'verbose\\', \\'old_value\\': None, \\'new_value\\': \\'0\\'}, {\\'key\\': \\'warm_start\\', \\'old_value\\': None, \\'new_value\\': \\'False\\'}]\\' for run ID=\\'a993c7810512452fbc36c67bc4afd423\\'.\")]')]\n",
      "\n"
     ]
    },
    {
     "name": "stdout",
     "output_type": "stream",
     "text": [
      " 30%|███████████████████████████████████████▌                                                                                            | 15/50 [01:35<03:22,  5.78s/trial, best loss: 6.642137287429206]"
     ]
    },
    {
     "name": "stderr",
     "output_type": "stream",
     "text": [
      "2022/05/31 14:38:10 WARNING mlflow.utils.autologging_utils: Encountered unexpected error during sklearn autologging: The following failures occurred while performing one or more logging operations: [MlflowException('Failed to perform one or more operations on the run with ID fd00f60479f8435ab0badf84468c1481. Failed operations: [RestException(\"INVALID_PARAMETER_VALUE: Changing param values is not allowed. Params were already logged=\\'[{\\'key\\': \\'bootstrap\\', \\'old_value\\': None, \\'new_value\\': \\'True\\'}, {\\'key\\': \\'ccp_alpha\\', \\'old_value\\': None, \\'new_value\\': \\'0.0\\'}, {\\'key\\': \\'criterion\\', \\'old_value\\': None, \\'new_value\\': \\'squared_error\\'}, {\\'key\\': \\'max_features\\', \\'old_value\\': None, \\'new_value\\': \\'1.0\\'}, {\\'key\\': \\'max_leaf_nodes\\', \\'old_value\\': None, \\'new_value\\': \\'None\\'}, {\\'key\\': \\'max_samples\\', \\'old_value\\': None, \\'new_value\\': \\'None\\'}, {\\'key\\': \\'min_impurity_decrease\\', \\'old_value\\': None, \\'new_value\\': \\'0.0\\'}, {\\'key\\': \\'min_weight_fraction_leaf\\', \\'old_value\\': None, \\'new_value\\': \\'0.0\\'}, {\\'key\\': \\'n_jobs\\', \\'old_value\\': None, \\'new_value\\': \\'None\\'}, {\\'key\\': \\'oob_score\\', \\'old_value\\': None, \\'new_value\\': \\'False\\'}, {\\'key\\': \\'verbose\\', \\'old_value\\': None, \\'new_value\\': \\'0\\'}, {\\'key\\': \\'warm_start\\', \\'old_value\\': None, \\'new_value\\': \\'False\\'}]\\' for run ID=\\'fd00f60479f8435ab0badf84468c1481\\'.\")]')]\n",
      "\n"
     ]
    },
    {
     "name": "stdout",
     "output_type": "stream",
     "text": [
      " 32%|██████████████████████████████████████████▏                                                                                         | 16/50 [01:40<03:09,  5.58s/trial, best loss: 6.642137287429206]"
     ]
    },
    {
     "name": "stderr",
     "output_type": "stream",
     "text": [
      "2022/05/31 14:38:17 WARNING mlflow.utils.autologging_utils: Encountered unexpected error during sklearn autologging: The following failures occurred while performing one or more logging operations: [MlflowException('Failed to perform one or more operations on the run with ID f05ce39d182b43a98ede98f30c206306. Failed operations: [RestException(\"INVALID_PARAMETER_VALUE: Changing param values is not allowed. Params were already logged=\\'[{\\'key\\': \\'bootstrap\\', \\'old_value\\': None, \\'new_value\\': \\'True\\'}, {\\'key\\': \\'ccp_alpha\\', \\'old_value\\': None, \\'new_value\\': \\'0.0\\'}, {\\'key\\': \\'criterion\\', \\'old_value\\': None, \\'new_value\\': \\'squared_error\\'}, {\\'key\\': \\'max_features\\', \\'old_value\\': None, \\'new_value\\': \\'1.0\\'}, {\\'key\\': \\'max_leaf_nodes\\', \\'old_value\\': None, \\'new_value\\': \\'None\\'}, {\\'key\\': \\'max_samples\\', \\'old_value\\': None, \\'new_value\\': \\'None\\'}, {\\'key\\': \\'min_impurity_decrease\\', \\'old_value\\': None, \\'new_value\\': \\'0.0\\'}, {\\'key\\': \\'min_weight_fraction_leaf\\', \\'old_value\\': None, \\'new_value\\': \\'0.0\\'}, {\\'key\\': \\'n_jobs\\', \\'old_value\\': None, \\'new_value\\': \\'None\\'}, {\\'key\\': \\'oob_score\\', \\'old_value\\': None, \\'new_value\\': \\'False\\'}, {\\'key\\': \\'verbose\\', \\'old_value\\': None, \\'new_value\\': \\'0\\'}, {\\'key\\': \\'warm_start\\', \\'old_value\\': None, \\'new_value\\': \\'False\\'}]\\' for run ID=\\'f05ce39d182b43a98ede98f30c206306\\'.\")]')]\n",
      "\n"
     ]
    },
    {
     "name": "stdout",
     "output_type": "stream",
     "text": [
      " 34%|████████████████████████████████████████████▉                                                                                       | 17/50 [01:47<03:23,  6.17s/trial, best loss: 6.642137287429206]"
     ]
    },
    {
     "name": "stderr",
     "output_type": "stream",
     "text": [
      "2022/05/31 14:38:28 WARNING mlflow.utils.autologging_utils: Encountered unexpected error during sklearn autologging: The following failures occurred while performing one or more logging operations: [MlflowException('Failed to perform one or more operations on the run with ID 4efbeda1eb6145b8903444c9a0682f7a. Failed operations: [RestException(\"INVALID_PARAMETER_VALUE: Changing param values is not allowed. Params were already logged=\\'[{\\'key\\': \\'bootstrap\\', \\'old_value\\': None, \\'new_value\\': \\'True\\'}, {\\'key\\': \\'ccp_alpha\\', \\'old_value\\': None, \\'new_value\\': \\'0.0\\'}, {\\'key\\': \\'criterion\\', \\'old_value\\': None, \\'new_value\\': \\'squared_error\\'}, {\\'key\\': \\'max_features\\', \\'old_value\\': None, \\'new_value\\': \\'1.0\\'}, {\\'key\\': \\'max_leaf_nodes\\', \\'old_value\\': None, \\'new_value\\': \\'None\\'}, {\\'key\\': \\'max_samples\\', \\'old_value\\': None, \\'new_value\\': \\'None\\'}, {\\'key\\': \\'min_impurity_decrease\\', \\'old_value\\': None, \\'new_value\\': \\'0.0\\'}, {\\'key\\': \\'min_weight_fraction_leaf\\', \\'old_value\\': None, \\'new_value\\': \\'0.0\\'}, {\\'key\\': \\'n_jobs\\', \\'old_value\\': None, \\'new_value\\': \\'None\\'}, {\\'key\\': \\'oob_score\\', \\'old_value\\': None, \\'new_value\\': \\'False\\'}, {\\'key\\': \\'verbose\\', \\'old_value\\': None, \\'new_value\\': \\'0\\'}, {\\'key\\': \\'warm_start\\', \\'old_value\\': None, \\'new_value\\': \\'False\\'}]\\' for run ID=\\'4efbeda1eb6145b8903444c9a0682f7a\\'.\")]')]\n",
      "\n"
     ]
    },
    {
     "name": "stdout",
     "output_type": "stream",
     "text": [
      " 36%|███████████████████████████████████████████████▌                                                                                    | 18/50 [01:58<03:57,  7.41s/trial, best loss: 6.629728007710133]"
     ]
    },
    {
     "name": "stderr",
     "output_type": "stream",
     "text": [
      "2022/05/31 14:38:32 WARNING mlflow.utils.autologging_utils: Encountered unexpected error during sklearn autologging: The following failures occurred while performing one or more logging operations: [MlflowException('Failed to perform one or more operations on the run with ID 5fa2bbfcb6344e34a1ebb47d8a16e220. Failed operations: [RestException(\"INVALID_PARAMETER_VALUE: Changing param values is not allowed. Params were already logged=\\'[{\\'key\\': \\'bootstrap\\', \\'old_value\\': None, \\'new_value\\': \\'True\\'}, {\\'key\\': \\'ccp_alpha\\', \\'old_value\\': None, \\'new_value\\': \\'0.0\\'}, {\\'key\\': \\'criterion\\', \\'old_value\\': None, \\'new_value\\': \\'squared_error\\'}, {\\'key\\': \\'max_features\\', \\'old_value\\': None, \\'new_value\\': \\'1.0\\'}, {\\'key\\': \\'max_leaf_nodes\\', \\'old_value\\': None, \\'new_value\\': \\'None\\'}, {\\'key\\': \\'max_samples\\', \\'old_value\\': None, \\'new_value\\': \\'None\\'}, {\\'key\\': \\'min_impurity_decrease\\', \\'old_value\\': None, \\'new_value\\': \\'0.0\\'}, {\\'key\\': \\'min_weight_fraction_leaf\\', \\'old_value\\': None, \\'new_value\\': \\'0.0\\'}, {\\'key\\': \\'n_jobs\\', \\'old_value\\': None, \\'new_value\\': \\'None\\'}, {\\'key\\': \\'oob_score\\', \\'old_value\\': None, \\'new_value\\': \\'False\\'}, {\\'key\\': \\'verbose\\', \\'old_value\\': None, \\'new_value\\': \\'0\\'}, {\\'key\\': \\'warm_start\\', \\'old_value\\': None, \\'new_value\\': \\'False\\'}]\\' for run ID=\\'5fa2bbfcb6344e34a1ebb47d8a16e220\\'.\")]')]\n",
      "\n"
     ]
    },
    {
     "name": "stdout",
     "output_type": "stream",
     "text": [
      " 38%|██████████████████████████████████████████████████▏                                                                                 | 19/50 [02:02<03:19,  6.42s/trial, best loss: 6.629728007710133]"
     ]
    },
    {
     "name": "stderr",
     "output_type": "stream",
     "text": [
      "2022/05/31 14:38:35 WARNING mlflow.utils.autologging_utils: Encountered unexpected error during sklearn autologging: The following failures occurred while performing one or more logging operations: [MlflowException('Failed to perform one or more operations on the run with ID 5dfbc86da97d40f2bdb72855d4f09079. Failed operations: [RestException(\"INVALID_PARAMETER_VALUE: Changing param values is not allowed. Params were already logged=\\'[{\\'key\\': \\'bootstrap\\', \\'old_value\\': None, \\'new_value\\': \\'True\\'}, {\\'key\\': \\'ccp_alpha\\', \\'old_value\\': None, \\'new_value\\': \\'0.0\\'}, {\\'key\\': \\'criterion\\', \\'old_value\\': None, \\'new_value\\': \\'squared_error\\'}, {\\'key\\': \\'max_features\\', \\'old_value\\': None, \\'new_value\\': \\'1.0\\'}, {\\'key\\': \\'max_leaf_nodes\\', \\'old_value\\': None, \\'new_value\\': \\'None\\'}, {\\'key\\': \\'max_samples\\', \\'old_value\\': None, \\'new_value\\': \\'None\\'}, {\\'key\\': \\'min_impurity_decrease\\', \\'old_value\\': None, \\'new_value\\': \\'0.0\\'}, {\\'key\\': \\'min_weight_fraction_leaf\\', \\'old_value\\': None, \\'new_value\\': \\'0.0\\'}, {\\'key\\': \\'n_jobs\\', \\'old_value\\': None, \\'new_value\\': \\'None\\'}, {\\'key\\': \\'oob_score\\', \\'old_value\\': None, \\'new_value\\': \\'False\\'}, {\\'key\\': \\'verbose\\', \\'old_value\\': None, \\'new_value\\': \\'0\\'}, {\\'key\\': \\'warm_start\\', \\'old_value\\': None, \\'new_value\\': \\'False\\'}]\\' for run ID=\\'5dfbc86da97d40f2bdb72855d4f09079\\'.\")]')]\n",
      "\n"
     ]
    },
    {
     "name": "stdout",
     "output_type": "stream",
     "text": [
      " 40%|████████████████████████████████████████████████████▊                                                                               | 20/50 [02:05<02:43,  5.44s/trial, best loss: 6.629728007710133]"
     ]
    },
    {
     "name": "stderr",
     "output_type": "stream",
     "text": [
      "2022/05/31 14:38:49 WARNING mlflow.utils.autologging_utils: Encountered unexpected error during sklearn autologging: The following failures occurred while performing one or more logging operations: [MlflowException('Failed to perform one or more operations on the run with ID 798001cd16794643a0aaeb4ff673beb5. Failed operations: [RestException(\"INVALID_PARAMETER_VALUE: Changing param values is not allowed. Params were already logged=\\'[{\\'key\\': \\'bootstrap\\', \\'old_value\\': None, \\'new_value\\': \\'True\\'}, {\\'key\\': \\'ccp_alpha\\', \\'old_value\\': None, \\'new_value\\': \\'0.0\\'}, {\\'key\\': \\'criterion\\', \\'old_value\\': None, \\'new_value\\': \\'squared_error\\'}, {\\'key\\': \\'max_features\\', \\'old_value\\': None, \\'new_value\\': \\'1.0\\'}, {\\'key\\': \\'max_leaf_nodes\\', \\'old_value\\': None, \\'new_value\\': \\'None\\'}, {\\'key\\': \\'max_samples\\', \\'old_value\\': None, \\'new_value\\': \\'None\\'}, {\\'key\\': \\'min_impurity_decrease\\', \\'old_value\\': None, \\'new_value\\': \\'0.0\\'}, {\\'key\\': \\'min_weight_fraction_leaf\\', \\'old_value\\': None, \\'new_value\\': \\'0.0\\'}, {\\'key\\': \\'n_jobs\\', \\'old_value\\': None, \\'new_value\\': \\'None\\'}, {\\'key\\': \\'oob_score\\', \\'old_value\\': None, \\'new_value\\': \\'False\\'}, {\\'key\\': \\'verbose\\', \\'old_value\\': None, \\'new_value\\': \\'0\\'}, {\\'key\\': \\'warm_start\\', \\'old_value\\': None, \\'new_value\\': \\'False\\'}]\\' for run ID=\\'798001cd16794643a0aaeb4ff673beb5\\'.\")]')]\n",
      "\n"
     ]
    },
    {
     "name": "stdout",
     "output_type": "stream",
     "text": [
      " 42%|███████████████████████████████████████████████████████▍                                                                            | 21/50 [02:19<03:55,  8.11s/trial, best loss: 6.629728007710133]"
     ]
    },
    {
     "name": "stderr",
     "output_type": "stream",
     "text": [
      "2022/05/31 14:39:01 WARNING mlflow.utils.autologging_utils: Encountered unexpected error during sklearn autologging: The following failures occurred while performing one or more logging operations: [MlflowException('Failed to perform one or more operations on the run with ID 2eacda4129d7453d982f9481ba7e5df8. Failed operations: [RestException(\"INVALID_PARAMETER_VALUE: Changing param values is not allowed. Params were already logged=\\'[{\\'key\\': \\'bootstrap\\', \\'old_value\\': None, \\'new_value\\': \\'True\\'}, {\\'key\\': \\'ccp_alpha\\', \\'old_value\\': None, \\'new_value\\': \\'0.0\\'}, {\\'key\\': \\'criterion\\', \\'old_value\\': None, \\'new_value\\': \\'squared_error\\'}, {\\'key\\': \\'max_features\\', \\'old_value\\': None, \\'new_value\\': \\'1.0\\'}, {\\'key\\': \\'max_leaf_nodes\\', \\'old_value\\': None, \\'new_value\\': \\'None\\'}, {\\'key\\': \\'max_samples\\', \\'old_value\\': None, \\'new_value\\': \\'None\\'}, {\\'key\\': \\'min_impurity_decrease\\', \\'old_value\\': None, \\'new_value\\': \\'0.0\\'}, {\\'key\\': \\'min_weight_fraction_leaf\\', \\'old_value\\': None, \\'new_value\\': \\'0.0\\'}, {\\'key\\': \\'n_jobs\\', \\'old_value\\': None, \\'new_value\\': \\'None\\'}, {\\'key\\': \\'oob_score\\', \\'old_value\\': None, \\'new_value\\': \\'False\\'}, {\\'key\\': \\'verbose\\', \\'old_value\\': None, \\'new_value\\': \\'0\\'}, {\\'key\\': \\'warm_start\\', \\'old_value\\': None, \\'new_value\\': \\'False\\'}]\\' for run ID=\\'2eacda4129d7453d982f9481ba7e5df8\\'.\")]')]\n",
      "\n"
     ]
    },
    {
     "name": "stdout",
     "output_type": "stream",
     "text": [
      " 44%|██████████████████████████████████████████████████████████                                                                          | 22/50 [02:30<04:13,  9.04s/trial, best loss: 6.629728007710133]"
     ]
    },
    {
     "name": "stderr",
     "output_type": "stream",
     "text": [
      "2022/05/31 14:39:17 WARNING mlflow.utils.autologging_utils: Encountered unexpected error during sklearn autologging: The following failures occurred while performing one or more logging operations: [MlflowException('Failed to perform one or more operations on the run with ID cbadf79a8f174718b6dafc4d114d017f. Failed operations: [RestException(\"INVALID_PARAMETER_VALUE: Changing param values is not allowed. Params were already logged=\\'[{\\'key\\': \\'bootstrap\\', \\'old_value\\': None, \\'new_value\\': \\'True\\'}, {\\'key\\': \\'ccp_alpha\\', \\'old_value\\': None, \\'new_value\\': \\'0.0\\'}, {\\'key\\': \\'criterion\\', \\'old_value\\': None, \\'new_value\\': \\'squared_error\\'}, {\\'key\\': \\'max_features\\', \\'old_value\\': None, \\'new_value\\': \\'1.0\\'}, {\\'key\\': \\'max_leaf_nodes\\', \\'old_value\\': None, \\'new_value\\': \\'None\\'}, {\\'key\\': \\'max_samples\\', \\'old_value\\': None, \\'new_value\\': \\'None\\'}, {\\'key\\': \\'min_impurity_decrease\\', \\'old_value\\': None, \\'new_value\\': \\'0.0\\'}, {\\'key\\': \\'min_weight_fraction_leaf\\', \\'old_value\\': None, \\'new_value\\': \\'0.0\\'}, {\\'key\\': \\'n_jobs\\', \\'old_value\\': None, \\'new_value\\': \\'None\\'}, {\\'key\\': \\'oob_score\\', \\'old_value\\': None, \\'new_value\\': \\'False\\'}, {\\'key\\': \\'verbose\\', \\'old_value\\': None, \\'new_value\\': \\'0\\'}, {\\'key\\': \\'warm_start\\', \\'old_value\\': None, \\'new_value\\': \\'False\\'}]\\' for run ID=\\'cbadf79a8f174718b6dafc4d114d017f\\'.\")]')]\n",
      "\n"
     ]
    },
    {
     "name": "stdout",
     "output_type": "stream",
     "text": [
      " 46%|████████████████████████████████████████████████████████████▋                                                                       | 23/50 [02:47<05:06, 11.34s/trial, best loss: 6.629728007710133]"
     ]
    },
    {
     "name": "stderr",
     "output_type": "stream",
     "text": [
      "2022/05/31 14:39:31 WARNING mlflow.utils.autologging_utils: Encountered unexpected error during sklearn autologging: The following failures occurred while performing one or more logging operations: [MlflowException('Failed to perform one or more operations on the run with ID 5a3f5d023397474c9dac1192288eb9a9. Failed operations: [RestException(\"INVALID_PARAMETER_VALUE: Changing param values is not allowed. Params were already logged=\\'[{\\'key\\': \\'bootstrap\\', \\'old_value\\': None, \\'new_value\\': \\'True\\'}, {\\'key\\': \\'ccp_alpha\\', \\'old_value\\': None, \\'new_value\\': \\'0.0\\'}, {\\'key\\': \\'criterion\\', \\'old_value\\': None, \\'new_value\\': \\'squared_error\\'}, {\\'key\\': \\'max_features\\', \\'old_value\\': None, \\'new_value\\': \\'1.0\\'}, {\\'key\\': \\'max_leaf_nodes\\', \\'old_value\\': None, \\'new_value\\': \\'None\\'}, {\\'key\\': \\'max_samples\\', \\'old_value\\': None, \\'new_value\\': \\'None\\'}, {\\'key\\': \\'min_impurity_decrease\\', \\'old_value\\': None, \\'new_value\\': \\'0.0\\'}, {\\'key\\': \\'min_weight_fraction_leaf\\', \\'old_value\\': None, \\'new_value\\': \\'0.0\\'}, {\\'key\\': \\'n_jobs\\', \\'old_value\\': None, \\'new_value\\': \\'None\\'}, {\\'key\\': \\'oob_score\\', \\'old_value\\': None, \\'new_value\\': \\'False\\'}, {\\'key\\': \\'verbose\\', \\'old_value\\': None, \\'new_value\\': \\'0\\'}, {\\'key\\': \\'warm_start\\', \\'old_value\\': None, \\'new_value\\': \\'False\\'}]\\' for run ID=\\'5a3f5d023397474c9dac1192288eb9a9\\'.\")]')]\n",
      "\n"
     ]
    },
    {
     "name": "stdout",
     "output_type": "stream",
     "text": [
      " 48%|███████████████████████████████████████████████████████████████▎                                                                    | 24/50 [03:01<05:15, 12.15s/trial, best loss: 6.629728007710133]"
     ]
    },
    {
     "name": "stderr",
     "output_type": "stream",
     "text": [
      "2022/05/31 14:39:42 WARNING mlflow.utils.autologging_utils: Encountered unexpected error during sklearn autologging: The following failures occurred while performing one or more logging operations: [MlflowException('Failed to perform one or more operations on the run with ID 5c8fced79237427ba66a193ddef98d0d. Failed operations: [RestException(\"INVALID_PARAMETER_VALUE: Changing param values is not allowed. Params were already logged=\\'[{\\'key\\': \\'bootstrap\\', \\'old_value\\': None, \\'new_value\\': \\'True\\'}, {\\'key\\': \\'ccp_alpha\\', \\'old_value\\': None, \\'new_value\\': \\'0.0\\'}, {\\'key\\': \\'criterion\\', \\'old_value\\': None, \\'new_value\\': \\'squared_error\\'}, {\\'key\\': \\'max_features\\', \\'old_value\\': None, \\'new_value\\': \\'1.0\\'}, {\\'key\\': \\'max_leaf_nodes\\', \\'old_value\\': None, \\'new_value\\': \\'None\\'}, {\\'key\\': \\'max_samples\\', \\'old_value\\': None, \\'new_value\\': \\'None\\'}, {\\'key\\': \\'min_impurity_decrease\\', \\'old_value\\': None, \\'new_value\\': \\'0.0\\'}, {\\'key\\': \\'min_weight_fraction_leaf\\', \\'old_value\\': None, \\'new_value\\': \\'0.0\\'}, {\\'key\\': \\'n_jobs\\', \\'old_value\\': None, \\'new_value\\': \\'None\\'}, {\\'key\\': \\'oob_score\\', \\'old_value\\': None, \\'new_value\\': \\'False\\'}, {\\'key\\': \\'verbose\\', \\'old_value\\': None, \\'new_value\\': \\'0\\'}, {\\'key\\': \\'warm_start\\', \\'old_value\\': None, \\'new_value\\': \\'False\\'}]\\' for run ID=\\'5c8fced79237427ba66a193ddef98d0d\\'.\")]')]\n",
      "\n"
     ]
    },
    {
     "name": "stdout",
     "output_type": "stream",
     "text": [
      " 50%|██████████████████████████████████████████████████████████████████                                                                  | 25/50 [03:12<04:53, 11.74s/trial, best loss: 6.629728007710133]"
     ]
    },
    {
     "name": "stderr",
     "output_type": "stream",
     "text": [
      "2022/05/31 14:39:53 WARNING mlflow.utils.autologging_utils: Encountered unexpected error during sklearn autologging: The following failures occurred while performing one or more logging operations: [MlflowException('Failed to perform one or more operations on the run with ID 60a973e94b5748a19701636affc5f163. Failed operations: [RestException(\"INVALID_PARAMETER_VALUE: Changing param values is not allowed. Params were already logged=\\'[{\\'key\\': \\'bootstrap\\', \\'old_value\\': None, \\'new_value\\': \\'True\\'}, {\\'key\\': \\'ccp_alpha\\', \\'old_value\\': None, \\'new_value\\': \\'0.0\\'}, {\\'key\\': \\'criterion\\', \\'old_value\\': None, \\'new_value\\': \\'squared_error\\'}, {\\'key\\': \\'max_features\\', \\'old_value\\': None, \\'new_value\\': \\'1.0\\'}, {\\'key\\': \\'max_leaf_nodes\\', \\'old_value\\': None, \\'new_value\\': \\'None\\'}, {\\'key\\': \\'max_samples\\', \\'old_value\\': None, \\'new_value\\': \\'None\\'}, {\\'key\\': \\'min_impurity_decrease\\', \\'old_value\\': None, \\'new_value\\': \\'0.0\\'}, {\\'key\\': \\'min_weight_fraction_leaf\\', \\'old_value\\': None, \\'new_value\\': \\'0.0\\'}, {\\'key\\': \\'n_jobs\\', \\'old_value\\': None, \\'new_value\\': \\'None\\'}, {\\'key\\': \\'oob_score\\', \\'old_value\\': None, \\'new_value\\': \\'False\\'}, {\\'key\\': \\'verbose\\', \\'old_value\\': None, \\'new_value\\': \\'0\\'}, {\\'key\\': \\'warm_start\\', \\'old_value\\': None, \\'new_value\\': \\'False\\'}]\\' for run ID=\\'60a973e94b5748a19701636affc5f163\\'.\")]')]\n",
      "\n"
     ]
    },
    {
     "name": "stdout",
     "output_type": "stream",
     "text": [
      " 52%|████████████████████████████████████████████████████████████████████▋                                                               | 26/50 [03:23<04:38, 11.62s/trial, best loss: 6.629728007710133]"
     ]
    },
    {
     "name": "stderr",
     "output_type": "stream",
     "text": [
      "2022/05/31 14:40:00 WARNING mlflow.utils.autologging_utils: Encountered unexpected error during sklearn autologging: The following failures occurred while performing one or more logging operations: [MlflowException('Failed to perform one or more operations on the run with ID 61c934876446451cadaee5877722e7e8. Failed operations: [RestException(\"INVALID_PARAMETER_VALUE: Changing param values is not allowed. Params were already logged=\\'[{\\'key\\': \\'bootstrap\\', \\'old_value\\': None, \\'new_value\\': \\'True\\'}, {\\'key\\': \\'ccp_alpha\\', \\'old_value\\': None, \\'new_value\\': \\'0.0\\'}, {\\'key\\': \\'criterion\\', \\'old_value\\': None, \\'new_value\\': \\'squared_error\\'}, {\\'key\\': \\'max_features\\', \\'old_value\\': None, \\'new_value\\': \\'1.0\\'}, {\\'key\\': \\'max_leaf_nodes\\', \\'old_value\\': None, \\'new_value\\': \\'None\\'}, {\\'key\\': \\'max_samples\\', \\'old_value\\': None, \\'new_value\\': \\'None\\'}, {\\'key\\': \\'min_impurity_decrease\\', \\'old_value\\': None, \\'new_value\\': \\'0.0\\'}, {\\'key\\': \\'min_weight_fraction_leaf\\', \\'old_value\\': None, \\'new_value\\': \\'0.0\\'}, {\\'key\\': \\'n_jobs\\', \\'old_value\\': None, \\'new_value\\': \\'None\\'}, {\\'key\\': \\'oob_score\\', \\'old_value\\': None, \\'new_value\\': \\'False\\'}, {\\'key\\': \\'verbose\\', \\'old_value\\': None, \\'new_value\\': \\'0\\'}, {\\'key\\': \\'warm_start\\', \\'old_value\\': None, \\'new_value\\': \\'False\\'}]\\' for run ID=\\'61c934876446451cadaee5877722e7e8\\'.\")]')]\n",
      "\n"
     ]
    },
    {
     "name": "stdout",
     "output_type": "stream",
     "text": [
      " 54%|███████████████████████████████████████████████████████████████████████▎                                                            | 27/50 [03:30<03:54, 10.19s/trial, best loss: 6.629728007710133]"
     ]
    },
    {
     "name": "stderr",
     "output_type": "stream",
     "text": [
      "2022/05/31 14:40:13 WARNING mlflow.utils.autologging_utils: Encountered unexpected error during sklearn autologging: The following failures occurred while performing one or more logging operations: [MlflowException('Failed to perform one or more operations on the run with ID 119e46173305435ebb80a89719308c09. Failed operations: [RestException(\"INVALID_PARAMETER_VALUE: Changing param values is not allowed. Params were already logged=\\'[{\\'key\\': \\'bootstrap\\', \\'old_value\\': None, \\'new_value\\': \\'True\\'}, {\\'key\\': \\'ccp_alpha\\', \\'old_value\\': None, \\'new_value\\': \\'0.0\\'}, {\\'key\\': \\'criterion\\', \\'old_value\\': None, \\'new_value\\': \\'squared_error\\'}, {\\'key\\': \\'max_features\\', \\'old_value\\': None, \\'new_value\\': \\'1.0\\'}, {\\'key\\': \\'max_leaf_nodes\\', \\'old_value\\': None, \\'new_value\\': \\'None\\'}, {\\'key\\': \\'max_samples\\', \\'old_value\\': None, \\'new_value\\': \\'None\\'}, {\\'key\\': \\'min_impurity_decrease\\', \\'old_value\\': None, \\'new_value\\': \\'0.0\\'}, {\\'key\\': \\'min_weight_fraction_leaf\\', \\'old_value\\': None, \\'new_value\\': \\'0.0\\'}, {\\'key\\': \\'n_jobs\\', \\'old_value\\': None, \\'new_value\\': \\'None\\'}, {\\'key\\': \\'oob_score\\', \\'old_value\\': None, \\'new_value\\': \\'False\\'}, {\\'key\\': \\'verbose\\', \\'old_value\\': None, \\'new_value\\': \\'0\\'}, {\\'key\\': \\'warm_start\\', \\'old_value\\': None, \\'new_value\\': \\'False\\'}]\\' for run ID=\\'119e46173305435ebb80a89719308c09\\'.\")]')]\n",
      "\n"
     ]
    },
    {
     "name": "stdout",
     "output_type": "stream",
     "text": [
      " 56%|█████████████████████████████████████████████████████████████████████████▉                                                          | 28/50 [03:43<04:02, 11.03s/trial, best loss: 6.629728007710133]"
     ]
    },
    {
     "name": "stderr",
     "output_type": "stream",
     "text": [
      "2022/05/31 14:40:19 WARNING mlflow.utils.autologging_utils: Encountered unexpected error during sklearn autologging: The following failures occurred while performing one or more logging operations: [MlflowException('Failed to perform one or more operations on the run with ID 624ad0d42aab4d858a1108832aa3ad15. Failed operations: [RestException(\"INVALID_PARAMETER_VALUE: Changing param values is not allowed. Params were already logged=\\'[{\\'key\\': \\'bootstrap\\', \\'old_value\\': None, \\'new_value\\': \\'True\\'}, {\\'key\\': \\'ccp_alpha\\', \\'old_value\\': None, \\'new_value\\': \\'0.0\\'}, {\\'key\\': \\'criterion\\', \\'old_value\\': None, \\'new_value\\': \\'squared_error\\'}, {\\'key\\': \\'max_features\\', \\'old_value\\': None, \\'new_value\\': \\'1.0\\'}, {\\'key\\': \\'max_leaf_nodes\\', \\'old_value\\': None, \\'new_value\\': \\'None\\'}, {\\'key\\': \\'max_samples\\', \\'old_value\\': None, \\'new_value\\': \\'None\\'}, {\\'key\\': \\'min_impurity_decrease\\', \\'old_value\\': None, \\'new_value\\': \\'0.0\\'}, {\\'key\\': \\'min_weight_fraction_leaf\\', \\'old_value\\': None, \\'new_value\\': \\'0.0\\'}, {\\'key\\': \\'n_jobs\\', \\'old_value\\': None, \\'new_value\\': \\'None\\'}, {\\'key\\': \\'oob_score\\', \\'old_value\\': None, \\'new_value\\': \\'False\\'}, {\\'key\\': \\'verbose\\', \\'old_value\\': None, \\'new_value\\': \\'0\\'}, {\\'key\\': \\'warm_start\\', \\'old_value\\': None, \\'new_value\\': \\'False\\'}]\\' for run ID=\\'624ad0d42aab4d858a1108832aa3ad15\\'.\")]')]\n",
      "\n"
     ]
    },
    {
     "name": "stdout",
     "output_type": "stream",
     "text": [
      " 58%|████████████████████████████████████████████████████████████████████████████▌                                                       | 29/50 [03:48<03:15,  9.30s/trial, best loss: 6.629728007710133]"
     ]
    },
    {
     "name": "stderr",
     "output_type": "stream",
     "text": [
      "2022/05/31 14:40:31 WARNING mlflow.utils.autologging_utils: Encountered unexpected error during sklearn autologging: The following failures occurred while performing one or more logging operations: [MlflowException('Failed to perform one or more operations on the run with ID 1ee52ed143b749c19add85ffd97caec5. Failed operations: [RestException(\"INVALID_PARAMETER_VALUE: Changing param values is not allowed. Params were already logged=\\'[{\\'key\\': \\'bootstrap\\', \\'old_value\\': None, \\'new_value\\': \\'True\\'}, {\\'key\\': \\'ccp_alpha\\', \\'old_value\\': None, \\'new_value\\': \\'0.0\\'}, {\\'key\\': \\'criterion\\', \\'old_value\\': None, \\'new_value\\': \\'squared_error\\'}, {\\'key\\': \\'max_features\\', \\'old_value\\': None, \\'new_value\\': \\'1.0\\'}, {\\'key\\': \\'max_leaf_nodes\\', \\'old_value\\': None, \\'new_value\\': \\'None\\'}, {\\'key\\': \\'max_samples\\', \\'old_value\\': None, \\'new_value\\': \\'None\\'}, {\\'key\\': \\'min_impurity_decrease\\', \\'old_value\\': None, \\'new_value\\': \\'0.0\\'}, {\\'key\\': \\'min_weight_fraction_leaf\\', \\'old_value\\': None, \\'new_value\\': \\'0.0\\'}, {\\'key\\': \\'n_jobs\\', \\'old_value\\': None, \\'new_value\\': \\'None\\'}, {\\'key\\': \\'oob_score\\', \\'old_value\\': None, \\'new_value\\': \\'False\\'}, {\\'key\\': \\'verbose\\', \\'old_value\\': None, \\'new_value\\': \\'0\\'}, {\\'key\\': \\'warm_start\\', \\'old_value\\': None, \\'new_value\\': \\'False\\'}]\\' for run ID=\\'1ee52ed143b749c19add85ffd97caec5\\'.\")]')]\n",
      "\n"
     ]
    },
    {
     "name": "stdout",
     "output_type": "stream",
     "text": [
      " 60%|███████████████████████████████████████████████████████████████████████████████▏                                                    | 30/50 [04:01<03:25, 10.29s/trial, best loss: 6.629728007710133]"
     ]
    },
    {
     "name": "stderr",
     "output_type": "stream",
     "text": [
      "2022/05/31 14:40:33 WARNING mlflow.utils.autologging_utils: Encountered unexpected error during sklearn autologging: The following failures occurred while performing one or more logging operations: [MlflowException('Failed to perform one or more operations on the run with ID 6b23276b6e074162825f1d658fab08e3. Failed operations: [RestException(\"INVALID_PARAMETER_VALUE: Changing param values is not allowed. Params were already logged=\\'[{\\'key\\': \\'bootstrap\\', \\'old_value\\': None, \\'new_value\\': \\'True\\'}, {\\'key\\': \\'ccp_alpha\\', \\'old_value\\': None, \\'new_value\\': \\'0.0\\'}, {\\'key\\': \\'criterion\\', \\'old_value\\': None, \\'new_value\\': \\'squared_error\\'}, {\\'key\\': \\'max_features\\', \\'old_value\\': None, \\'new_value\\': \\'1.0\\'}, {\\'key\\': \\'max_leaf_nodes\\', \\'old_value\\': None, \\'new_value\\': \\'None\\'}, {\\'key\\': \\'max_samples\\', \\'old_value\\': None, \\'new_value\\': \\'None\\'}, {\\'key\\': \\'min_impurity_decrease\\', \\'old_value\\': None, \\'new_value\\': \\'0.0\\'}, {\\'key\\': \\'min_weight_fraction_leaf\\', \\'old_value\\': None, \\'new_value\\': \\'0.0\\'}, {\\'key\\': \\'n_jobs\\', \\'old_value\\': None, \\'new_value\\': \\'None\\'}, {\\'key\\': \\'oob_score\\', \\'old_value\\': None, \\'new_value\\': \\'False\\'}, {\\'key\\': \\'verbose\\', \\'old_value\\': None, \\'new_value\\': \\'0\\'}, {\\'key\\': \\'warm_start\\', \\'old_value\\': None, \\'new_value\\': \\'False\\'}]\\' for run ID=\\'6b23276b6e074162825f1d658fab08e3\\'.\")]')]\n",
      "\n"
     ]
    },
    {
     "name": "stdout",
     "output_type": "stream",
     "text": [
      " 62%|█████████████████████████████████████████████████████████████████████████████████▊                                                  | 31/50 [04:03<02:28,  7.84s/trial, best loss: 6.629728007710133]"
     ]
    },
    {
     "name": "stderr",
     "output_type": "stream",
     "text": [
      "2022/05/31 14:40:41 WARNING mlflow.utils.autologging_utils: Encountered unexpected error during sklearn autologging: The following failures occurred while performing one or more logging operations: [MlflowException('Failed to perform one or more operations on the run with ID 9a7f41469cea46dc96354a07b462cda5. Failed operations: [RestException(\"INVALID_PARAMETER_VALUE: Changing param values is not allowed. Params were already logged=\\'[{\\'key\\': \\'bootstrap\\', \\'old_value\\': None, \\'new_value\\': \\'True\\'}, {\\'key\\': \\'ccp_alpha\\', \\'old_value\\': None, \\'new_value\\': \\'0.0\\'}, {\\'key\\': \\'criterion\\', \\'old_value\\': None, \\'new_value\\': \\'squared_error\\'}, {\\'key\\': \\'max_features\\', \\'old_value\\': None, \\'new_value\\': \\'1.0\\'}, {\\'key\\': \\'max_leaf_nodes\\', \\'old_value\\': None, \\'new_value\\': \\'None\\'}, {\\'key\\': \\'max_samples\\', \\'old_value\\': None, \\'new_value\\': \\'None\\'}, {\\'key\\': \\'min_impurity_decrease\\', \\'old_value\\': None, \\'new_value\\': \\'0.0\\'}, {\\'key\\': \\'min_weight_fraction_leaf\\', \\'old_value\\': None, \\'new_value\\': \\'0.0\\'}, {\\'key\\': \\'n_jobs\\', \\'old_value\\': None, \\'new_value\\': \\'None\\'}, {\\'key\\': \\'oob_score\\', \\'old_value\\': None, \\'new_value\\': \\'False\\'}, {\\'key\\': \\'verbose\\', \\'old_value\\': None, \\'new_value\\': \\'0\\'}, {\\'key\\': \\'warm_start\\', \\'old_value\\': None, \\'new_value\\': \\'False\\'}]\\' for run ID=\\'9a7f41469cea46dc96354a07b462cda5\\'.\")]')]\n",
      "\n"
     ]
    },
    {
     "name": "stdout",
     "output_type": "stream",
     "text": [
      " 64%|████████████████████████████████████████████████████████████████████████████████████▍                                               | 32/50 [04:11<02:21,  7.87s/trial, best loss: 6.629728007710133]"
     ]
    },
    {
     "name": "stderr",
     "output_type": "stream",
     "text": [
      "2022/05/31 14:40:54 WARNING mlflow.utils.autologging_utils: Encountered unexpected error during sklearn autologging: The following failures occurred while performing one or more logging operations: [MlflowException('Failed to perform one or more operations on the run with ID fec425b58c7449a8a3bf93cd8e9b8727. Failed operations: [RestException(\"INVALID_PARAMETER_VALUE: Changing param values is not allowed. Params were already logged=\\'[{\\'key\\': \\'bootstrap\\', \\'old_value\\': None, \\'new_value\\': \\'True\\'}, {\\'key\\': \\'ccp_alpha\\', \\'old_value\\': None, \\'new_value\\': \\'0.0\\'}, {\\'key\\': \\'criterion\\', \\'old_value\\': None, \\'new_value\\': \\'squared_error\\'}, {\\'key\\': \\'max_features\\', \\'old_value\\': None, \\'new_value\\': \\'1.0\\'}, {\\'key\\': \\'max_leaf_nodes\\', \\'old_value\\': None, \\'new_value\\': \\'None\\'}, {\\'key\\': \\'max_samples\\', \\'old_value\\': None, \\'new_value\\': \\'None\\'}, {\\'key\\': \\'min_impurity_decrease\\', \\'old_value\\': None, \\'new_value\\': \\'0.0\\'}, {\\'key\\': \\'min_weight_fraction_leaf\\', \\'old_value\\': None, \\'new_value\\': \\'0.0\\'}, {\\'key\\': \\'n_jobs\\', \\'old_value\\': None, \\'new_value\\': \\'None\\'}, {\\'key\\': \\'oob_score\\', \\'old_value\\': None, \\'new_value\\': \\'False\\'}, {\\'key\\': \\'verbose\\', \\'old_value\\': None, \\'new_value\\': \\'0\\'}, {\\'key\\': \\'warm_start\\', \\'old_value\\': None, \\'new_value\\': \\'False\\'}]\\' for run ID=\\'fec425b58c7449a8a3bf93cd8e9b8727\\'.\")]')]\n",
      "\n"
     ]
    },
    {
     "name": "stdout",
     "output_type": "stream",
     "text": [
      " 66%|███████████████████████████████████████████████████████████████████████████████████████                                             | 33/50 [04:24<02:41,  9.49s/trial, best loss: 6.629728007710133]"
     ]
    },
    {
     "name": "stderr",
     "output_type": "stream",
     "text": [
      "2022/05/31 14:41:07 WARNING mlflow.utils.autologging_utils: Encountered unexpected error during sklearn autologging: The following failures occurred while performing one or more logging operations: [MlflowException('Failed to perform one or more operations on the run with ID c593ec84ef4d48ce9c79e4c13529f3ca. Failed operations: [RestException(\"INVALID_PARAMETER_VALUE: Changing param values is not allowed. Params were already logged=\\'[{\\'key\\': \\'bootstrap\\', \\'old_value\\': None, \\'new_value\\': \\'True\\'}, {\\'key\\': \\'ccp_alpha\\', \\'old_value\\': None, \\'new_value\\': \\'0.0\\'}, {\\'key\\': \\'criterion\\', \\'old_value\\': None, \\'new_value\\': \\'squared_error\\'}, {\\'key\\': \\'max_features\\', \\'old_value\\': None, \\'new_value\\': \\'1.0\\'}, {\\'key\\': \\'max_leaf_nodes\\', \\'old_value\\': None, \\'new_value\\': \\'None\\'}, {\\'key\\': \\'max_samples\\', \\'old_value\\': None, \\'new_value\\': \\'None\\'}, {\\'key\\': \\'min_impurity_decrease\\', \\'old_value\\': None, \\'new_value\\': \\'0.0\\'}, {\\'key\\': \\'min_weight_fraction_leaf\\', \\'old_value\\': None, \\'new_value\\': \\'0.0\\'}, {\\'key\\': \\'n_jobs\\', \\'old_value\\': None, \\'new_value\\': \\'None\\'}, {\\'key\\': \\'oob_score\\', \\'old_value\\': None, \\'new_value\\': \\'False\\'}, {\\'key\\': \\'verbose\\', \\'old_value\\': None, \\'new_value\\': \\'0\\'}, {\\'key\\': \\'warm_start\\', \\'old_value\\': None, \\'new_value\\': \\'False\\'}]\\' for run ID=\\'c593ec84ef4d48ce9c79e4c13529f3ca\\'.\")]')]\n",
      "\n"
     ]
    },
    {
     "name": "stdout",
     "output_type": "stream",
     "text": [
      " 68%|█████████████████████████████████████████████████████████████████████████████████████████                                          | 34/50 [04:36<02:44, 10.25s/trial, best loss: 6.6284257482044735]"
     ]
    },
    {
     "name": "stderr",
     "output_type": "stream",
     "text": [
      "2022/05/31 14:41:14 WARNING mlflow.utils.autologging_utils: Encountered unexpected error during sklearn autologging: The following failures occurred while performing one or more logging operations: [MlflowException('Failed to perform one or more operations on the run with ID 7e4f79ca0c09482b978a79289a47f6b2. Failed operations: [RestException(\"INVALID_PARAMETER_VALUE: Changing param values is not allowed. Params were already logged=\\'[{\\'key\\': \\'bootstrap\\', \\'old_value\\': None, \\'new_value\\': \\'True\\'}, {\\'key\\': \\'ccp_alpha\\', \\'old_value\\': None, \\'new_value\\': \\'0.0\\'}, {\\'key\\': \\'criterion\\', \\'old_value\\': None, \\'new_value\\': \\'squared_error\\'}, {\\'key\\': \\'max_features\\', \\'old_value\\': None, \\'new_value\\': \\'1.0\\'}, {\\'key\\': \\'max_leaf_nodes\\', \\'old_value\\': None, \\'new_value\\': \\'None\\'}, {\\'key\\': \\'max_samples\\', \\'old_value\\': None, \\'new_value\\': \\'None\\'}, {\\'key\\': \\'min_impurity_decrease\\', \\'old_value\\': None, \\'new_value\\': \\'0.0\\'}, {\\'key\\': \\'min_weight_fraction_leaf\\', \\'old_value\\': None, \\'new_value\\': \\'0.0\\'}, {\\'key\\': \\'n_jobs\\', \\'old_value\\': None, \\'new_value\\': \\'None\\'}, {\\'key\\': \\'oob_score\\', \\'old_value\\': None, \\'new_value\\': \\'False\\'}, {\\'key\\': \\'verbose\\', \\'old_value\\': None, \\'new_value\\': \\'0\\'}, {\\'key\\': \\'warm_start\\', \\'old_value\\': None, \\'new_value\\': \\'False\\'}]\\' for run ID=\\'7e4f79ca0c09482b978a79289a47f6b2\\'.\")]')]\n",
      "\n"
     ]
    },
    {
     "name": "stdout",
     "output_type": "stream",
     "text": [
      " 70%|███████████████████████████████████████████████████████████████████████████████████████████▋                                       | 35/50 [04:43<02:18,  9.26s/trial, best loss: 6.6284257482044735]"
     ]
    },
    {
     "name": "stderr",
     "output_type": "stream",
     "text": [
      "2022/05/31 14:41:21 WARNING mlflow.utils.autologging_utils: Encountered unexpected error during sklearn autologging: The following failures occurred while performing one or more logging operations: [MlflowException('Failed to perform one or more operations on the run with ID 8fb56371f13d44a2bd895e950028c4ce. Failed operations: [RestException(\"INVALID_PARAMETER_VALUE: Changing param values is not allowed. Params were already logged=\\'[{\\'key\\': \\'bootstrap\\', \\'old_value\\': None, \\'new_value\\': \\'True\\'}, {\\'key\\': \\'ccp_alpha\\', \\'old_value\\': None, \\'new_value\\': \\'0.0\\'}, {\\'key\\': \\'criterion\\', \\'old_value\\': None, \\'new_value\\': \\'squared_error\\'}, {\\'key\\': \\'max_features\\', \\'old_value\\': None, \\'new_value\\': \\'1.0\\'}, {\\'key\\': \\'max_leaf_nodes\\', \\'old_value\\': None, \\'new_value\\': \\'None\\'}, {\\'key\\': \\'max_samples\\', \\'old_value\\': None, \\'new_value\\': \\'None\\'}, {\\'key\\': \\'min_impurity_decrease\\', \\'old_value\\': None, \\'new_value\\': \\'0.0\\'}, {\\'key\\': \\'min_weight_fraction_leaf\\', \\'old_value\\': None, \\'new_value\\': \\'0.0\\'}, {\\'key\\': \\'n_jobs\\', \\'old_value\\': None, \\'new_value\\': \\'None\\'}, {\\'key\\': \\'oob_score\\', \\'old_value\\': None, \\'new_value\\': \\'False\\'}, {\\'key\\': \\'verbose\\', \\'old_value\\': None, \\'new_value\\': \\'0\\'}, {\\'key\\': \\'warm_start\\', \\'old_value\\': None, \\'new_value\\': \\'False\\'}]\\' for run ID=\\'8fb56371f13d44a2bd895e950028c4ce\\'.\")]')]\n",
      "\n"
     ]
    },
    {
     "name": "stdout",
     "output_type": "stream",
     "text": [
      " 72%|██████████████████████████████████████████████████████████████████████████████████████████████▎                                    | 36/50 [04:51<02:04,  8.88s/trial, best loss: 6.6284257482044735]"
     ]
    },
    {
     "name": "stderr",
     "output_type": "stream",
     "text": [
      "2022/05/31 14:41:23 WARNING mlflow.utils.autologging_utils: Encountered unexpected error during sklearn autologging: The following failures occurred while performing one or more logging operations: [MlflowException('Failed to perform one or more operations on the run with ID 4e52893343b6438e8ef39f750d603ae8. Failed operations: [RestException(\"INVALID_PARAMETER_VALUE: Changing param values is not allowed. Params were already logged=\\'[{\\'key\\': \\'bootstrap\\', \\'old_value\\': None, \\'new_value\\': \\'True\\'}, {\\'key\\': \\'ccp_alpha\\', \\'old_value\\': None, \\'new_value\\': \\'0.0\\'}, {\\'key\\': \\'criterion\\', \\'old_value\\': None, \\'new_value\\': \\'squared_error\\'}, {\\'key\\': \\'max_features\\', \\'old_value\\': None, \\'new_value\\': \\'1.0\\'}, {\\'key\\': \\'max_leaf_nodes\\', \\'old_value\\': None, \\'new_value\\': \\'None\\'}, {\\'key\\': \\'max_samples\\', \\'old_value\\': None, \\'new_value\\': \\'None\\'}, {\\'key\\': \\'min_impurity_decrease\\', \\'old_value\\': None, \\'new_value\\': \\'0.0\\'}, {\\'key\\': \\'min_weight_fraction_leaf\\', \\'old_value\\': None, \\'new_value\\': \\'0.0\\'}, {\\'key\\': \\'n_jobs\\', \\'old_value\\': None, \\'new_value\\': \\'None\\'}, {\\'key\\': \\'oob_score\\', \\'old_value\\': None, \\'new_value\\': \\'False\\'}, {\\'key\\': \\'verbose\\', \\'old_value\\': None, \\'new_value\\': \\'0\\'}, {\\'key\\': \\'warm_start\\', \\'old_value\\': None, \\'new_value\\': \\'False\\'}]\\' for run ID=\\'4e52893343b6438e8ef39f750d603ae8\\'.\")]')]\n",
      "\n"
     ]
    },
    {
     "name": "stdout",
     "output_type": "stream",
     "text": [
      " 74%|████████████████████████████████████████████████████████████████████████████████████████████████▉                                  | 37/50 [04:53<01:27,  6.75s/trial, best loss: 6.6284257482044735]"
     ]
    },
    {
     "name": "stderr",
     "output_type": "stream",
     "text": [
      "2022/05/31 14:41:32 WARNING mlflow.utils.autologging_utils: Encountered unexpected error during sklearn autologging: The following failures occurred while performing one or more logging operations: [MlflowException('Failed to perform one or more operations on the run with ID 5451fb56a8df40098509eb0f889caed2. Failed operations: [RestException(\"INVALID_PARAMETER_VALUE: Changing param values is not allowed. Params were already logged=\\'[{\\'key\\': \\'bootstrap\\', \\'old_value\\': None, \\'new_value\\': \\'True\\'}, {\\'key\\': \\'ccp_alpha\\', \\'old_value\\': None, \\'new_value\\': \\'0.0\\'}, {\\'key\\': \\'criterion\\', \\'old_value\\': None, \\'new_value\\': \\'squared_error\\'}, {\\'key\\': \\'max_features\\', \\'old_value\\': None, \\'new_value\\': \\'1.0\\'}, {\\'key\\': \\'max_leaf_nodes\\', \\'old_value\\': None, \\'new_value\\': \\'None\\'}, {\\'key\\': \\'max_samples\\', \\'old_value\\': None, \\'new_value\\': \\'None\\'}, {\\'key\\': \\'min_impurity_decrease\\', \\'old_value\\': None, \\'new_value\\': \\'0.0\\'}, {\\'key\\': \\'min_weight_fraction_leaf\\', \\'old_value\\': None, \\'new_value\\': \\'0.0\\'}, {\\'key\\': \\'n_jobs\\', \\'old_value\\': None, \\'new_value\\': \\'None\\'}, {\\'key\\': \\'oob_score\\', \\'old_value\\': None, \\'new_value\\': \\'False\\'}, {\\'key\\': \\'verbose\\', \\'old_value\\': None, \\'new_value\\': \\'0\\'}, {\\'key\\': \\'warm_start\\', \\'old_value\\': None, \\'new_value\\': \\'False\\'}]\\' for run ID=\\'5451fb56a8df40098509eb0f889caed2\\'.\")]')]\n",
      "\n"
     ]
    },
    {
     "name": "stdout",
     "output_type": "stream",
     "text": [
      " 76%|███████████████████████████████████████████████████████████████████████████████████████████████████▌                               | 38/50 [05:02<01:27,  7.31s/trial, best loss: 6.6284257482044735]"
     ]
    },
    {
     "name": "stderr",
     "output_type": "stream",
     "text": [
      "2022/05/31 14:41:42 WARNING mlflow.utils.autologging_utils: Encountered unexpected error during sklearn autologging: The following failures occurred while performing one or more logging operations: [MlflowException('Failed to perform one or more operations on the run with ID c5ec1df46eaa47cd9400f2c029142024. Failed operations: [RestException(\"INVALID_PARAMETER_VALUE: Changing param values is not allowed. Params were already logged=\\'[{\\'key\\': \\'bootstrap\\', \\'old_value\\': None, \\'new_value\\': \\'True\\'}, {\\'key\\': \\'ccp_alpha\\', \\'old_value\\': None, \\'new_value\\': \\'0.0\\'}, {\\'key\\': \\'criterion\\', \\'old_value\\': None, \\'new_value\\': \\'squared_error\\'}, {\\'key\\': \\'max_features\\', \\'old_value\\': None, \\'new_value\\': \\'1.0\\'}, {\\'key\\': \\'max_leaf_nodes\\', \\'old_value\\': None, \\'new_value\\': \\'None\\'}, {\\'key\\': \\'max_samples\\', \\'old_value\\': None, \\'new_value\\': \\'None\\'}, {\\'key\\': \\'min_impurity_decrease\\', \\'old_value\\': None, \\'new_value\\': \\'0.0\\'}, {\\'key\\': \\'min_weight_fraction_leaf\\', \\'old_value\\': None, \\'new_value\\': \\'0.0\\'}, {\\'key\\': \\'n_jobs\\', \\'old_value\\': None, \\'new_value\\': \\'None\\'}, {\\'key\\': \\'oob_score\\', \\'old_value\\': None, \\'new_value\\': \\'False\\'}, {\\'key\\': \\'verbose\\', \\'old_value\\': None, \\'new_value\\': \\'0\\'}, {\\'key\\': \\'warm_start\\', \\'old_value\\': None, \\'new_value\\': \\'False\\'}]\\' for run ID=\\'c5ec1df46eaa47cd9400f2c029142024\\'.\")]')]\n",
      "\n"
     ]
    },
    {
     "name": "stdout",
     "output_type": "stream",
     "text": [
      " 78%|██████████████████████████████████████████████████████████████████████████████████████████████████████▏                            | 39/50 [05:12<01:29,  8.16s/trial, best loss: 6.6284257482044735]"
     ]
    },
    {
     "name": "stderr",
     "output_type": "stream",
     "text": [
      "2022/05/31 14:41:53 WARNING mlflow.utils.autologging_utils: Encountered unexpected error during sklearn autologging: The following failures occurred while performing one or more logging operations: [MlflowException('Failed to perform one or more operations on the run with ID 47e1e89badf34b74966fbbaf2d716b08. Failed operations: [RestException(\"INVALID_PARAMETER_VALUE: Changing param values is not allowed. Params were already logged=\\'[{\\'key\\': \\'bootstrap\\', \\'old_value\\': None, \\'new_value\\': \\'True\\'}, {\\'key\\': \\'ccp_alpha\\', \\'old_value\\': None, \\'new_value\\': \\'0.0\\'}, {\\'key\\': \\'criterion\\', \\'old_value\\': None, \\'new_value\\': \\'squared_error\\'}, {\\'key\\': \\'max_features\\', \\'old_value\\': None, \\'new_value\\': \\'1.0\\'}, {\\'key\\': \\'max_leaf_nodes\\', \\'old_value\\': None, \\'new_value\\': \\'None\\'}, {\\'key\\': \\'max_samples\\', \\'old_value\\': None, \\'new_value\\': \\'None\\'}, {\\'key\\': \\'min_impurity_decrease\\', \\'old_value\\': None, \\'new_value\\': \\'0.0\\'}, {\\'key\\': \\'min_weight_fraction_leaf\\', \\'old_value\\': None, \\'new_value\\': \\'0.0\\'}, {\\'key\\': \\'n_jobs\\', \\'old_value\\': None, \\'new_value\\': \\'None\\'}, {\\'key\\': \\'oob_score\\', \\'old_value\\': None, \\'new_value\\': \\'False\\'}, {\\'key\\': \\'verbose\\', \\'old_value\\': None, \\'new_value\\': \\'0\\'}, {\\'key\\': \\'warm_start\\', \\'old_value\\': None, \\'new_value\\': \\'False\\'}]\\' for run ID=\\'47e1e89badf34b74966fbbaf2d716b08\\'.\")]')]\n",
      "\n"
     ]
    },
    {
     "name": "stdout",
     "output_type": "stream",
     "text": [
      " 80%|████████████████████████████████████████████████████████████████████████████████████████████████████████▊                          | 40/50 [05:23<01:30,  9.01s/trial, best loss: 6.6284257482044735]"
     ]
    },
    {
     "name": "stderr",
     "output_type": "stream",
     "text": [
      "2022/05/31 14:41:56 WARNING mlflow.utils.autologging_utils: Encountered unexpected error during sklearn autologging: The following failures occurred while performing one or more logging operations: [MlflowException('Failed to perform one or more operations on the run with ID e6b00cdfa66341958955b2c7ac32a126. Failed operations: [RestException(\"INVALID_PARAMETER_VALUE: Changing param values is not allowed. Params were already logged=\\'[{\\'key\\': \\'bootstrap\\', \\'old_value\\': None, \\'new_value\\': \\'True\\'}, {\\'key\\': \\'ccp_alpha\\', \\'old_value\\': None, \\'new_value\\': \\'0.0\\'}, {\\'key\\': \\'criterion\\', \\'old_value\\': None, \\'new_value\\': \\'squared_error\\'}, {\\'key\\': \\'max_features\\', \\'old_value\\': None, \\'new_value\\': \\'1.0\\'}, {\\'key\\': \\'max_leaf_nodes\\', \\'old_value\\': None, \\'new_value\\': \\'None\\'}, {\\'key\\': \\'max_samples\\', \\'old_value\\': None, \\'new_value\\': \\'None\\'}, {\\'key\\': \\'min_impurity_decrease\\', \\'old_value\\': None, \\'new_value\\': \\'0.0\\'}, {\\'key\\': \\'min_weight_fraction_leaf\\', \\'old_value\\': None, \\'new_value\\': \\'0.0\\'}, {\\'key\\': \\'n_jobs\\', \\'old_value\\': None, \\'new_value\\': \\'None\\'}, {\\'key\\': \\'oob_score\\', \\'old_value\\': None, \\'new_value\\': \\'False\\'}, {\\'key\\': \\'verbose\\', \\'old_value\\': None, \\'new_value\\': \\'0\\'}, {\\'key\\': \\'warm_start\\', \\'old_value\\': None, \\'new_value\\': \\'False\\'}]\\' for run ID=\\'e6b00cdfa66341958955b2c7ac32a126\\'.\")]')]\n",
      "\n"
     ]
    },
    {
     "name": "stdout",
     "output_type": "stream",
     "text": [
      " 82%|███████████████████████████████████████████████████████████████████████████████████████████████████████████▍                       | 41/50 [05:26<01:05,  7.26s/trial, best loss: 6.6284257482044735]"
     ]
    },
    {
     "name": "stderr",
     "output_type": "stream",
     "text": [
      "2022/05/31 14:42:01 WARNING mlflow.utils.autologging_utils: Encountered unexpected error during sklearn autologging: The following failures occurred while performing one or more logging operations: [MlflowException('Failed to perform one or more operations on the run with ID d7a0749a2d5a461b935c0856ec336805. Failed operations: [RestException(\"INVALID_PARAMETER_VALUE: Changing param values is not allowed. Params were already logged=\\'[{\\'key\\': \\'bootstrap\\', \\'old_value\\': None, \\'new_value\\': \\'True\\'}, {\\'key\\': \\'ccp_alpha\\', \\'old_value\\': None, \\'new_value\\': \\'0.0\\'}, {\\'key\\': \\'criterion\\', \\'old_value\\': None, \\'new_value\\': \\'squared_error\\'}, {\\'key\\': \\'max_features\\', \\'old_value\\': None, \\'new_value\\': \\'1.0\\'}, {\\'key\\': \\'max_leaf_nodes\\', \\'old_value\\': None, \\'new_value\\': \\'None\\'}, {\\'key\\': \\'max_samples\\', \\'old_value\\': None, \\'new_value\\': \\'None\\'}, {\\'key\\': \\'min_impurity_decrease\\', \\'old_value\\': None, \\'new_value\\': \\'0.0\\'}, {\\'key\\': \\'min_weight_fraction_leaf\\', \\'old_value\\': None, \\'new_value\\': \\'0.0\\'}, {\\'key\\': \\'n_jobs\\', \\'old_value\\': None, \\'new_value\\': \\'None\\'}, {\\'key\\': \\'oob_score\\', \\'old_value\\': None, \\'new_value\\': \\'False\\'}, {\\'key\\': \\'verbose\\', \\'old_value\\': None, \\'new_value\\': \\'0\\'}, {\\'key\\': \\'warm_start\\', \\'old_value\\': None, \\'new_value\\': \\'False\\'}]\\' for run ID=\\'d7a0749a2d5a461b935c0856ec336805\\'.\")]')]\n",
      "\n"
     ]
    },
    {
     "name": "stdout",
     "output_type": "stream",
     "text": [
      " 84%|██████████████████████████████████████████████████████████████████████████████████████████████████████████████                     | 42/50 [05:31<00:53,  6.64s/trial, best loss: 6.6284257482044735]"
     ]
    },
    {
     "name": "stderr",
     "output_type": "stream",
     "text": [
      "2022/05/31 14:42:09 WARNING mlflow.utils.autologging_utils: Encountered unexpected error during sklearn autologging: The following failures occurred while performing one or more logging operations: [MlflowException('Failed to perform one or more operations on the run with ID 9d43f3076697403fa39881abc11312a3. Failed operations: [RestException(\"INVALID_PARAMETER_VALUE: Changing param values is not allowed. Params were already logged=\\'[{\\'key\\': \\'bootstrap\\', \\'old_value\\': None, \\'new_value\\': \\'True\\'}, {\\'key\\': \\'ccp_alpha\\', \\'old_value\\': None, \\'new_value\\': \\'0.0\\'}, {\\'key\\': \\'criterion\\', \\'old_value\\': None, \\'new_value\\': \\'squared_error\\'}, {\\'key\\': \\'max_features\\', \\'old_value\\': None, \\'new_value\\': \\'1.0\\'}, {\\'key\\': \\'max_leaf_nodes\\', \\'old_value\\': None, \\'new_value\\': \\'None\\'}, {\\'key\\': \\'max_samples\\', \\'old_value\\': None, \\'new_value\\': \\'None\\'}, {\\'key\\': \\'min_impurity_decrease\\', \\'old_value\\': None, \\'new_value\\': \\'0.0\\'}, {\\'key\\': \\'min_weight_fraction_leaf\\', \\'old_value\\': None, \\'new_value\\': \\'0.0\\'}, {\\'key\\': \\'n_jobs\\', \\'old_value\\': None, \\'new_value\\': \\'None\\'}, {\\'key\\': \\'oob_score\\', \\'old_value\\': None, \\'new_value\\': \\'False\\'}, {\\'key\\': \\'verbose\\', \\'old_value\\': None, \\'new_value\\': \\'0\\'}, {\\'key\\': \\'warm_start\\', \\'old_value\\': None, \\'new_value\\': \\'False\\'}]\\' for run ID=\\'9d43f3076697403fa39881abc11312a3\\'.\")]')]\n",
      "\n"
     ]
    },
    {
     "name": "stdout",
     "output_type": "stream",
     "text": [
      " 86%|████████████████████████████████████████████████████████████████████████████████████████████████████████████████▋                  | 43/50 [05:39<00:48,  6.92s/trial, best loss: 6.6284257482044735]"
     ]
    },
    {
     "name": "stderr",
     "output_type": "stream",
     "text": [
      "2022/05/31 14:42:18 WARNING mlflow.utils.autologging_utils: Encountered unexpected error during sklearn autologging: The following failures occurred while performing one or more logging operations: [MlflowException('Failed to perform one or more operations on the run with ID 9f84e110d1b0492ab1a6f78b0cf166da. Failed operations: [RestException(\"INVALID_PARAMETER_VALUE: Changing param values is not allowed. Params were already logged=\\'[{\\'key\\': \\'bootstrap\\', \\'old_value\\': None, \\'new_value\\': \\'True\\'}, {\\'key\\': \\'ccp_alpha\\', \\'old_value\\': None, \\'new_value\\': \\'0.0\\'}, {\\'key\\': \\'criterion\\', \\'old_value\\': None, \\'new_value\\': \\'squared_error\\'}, {\\'key\\': \\'max_features\\', \\'old_value\\': None, \\'new_value\\': \\'1.0\\'}, {\\'key\\': \\'max_leaf_nodes\\', \\'old_value\\': None, \\'new_value\\': \\'None\\'}, {\\'key\\': \\'max_samples\\', \\'old_value\\': None, \\'new_value\\': \\'None\\'}, {\\'key\\': \\'min_impurity_decrease\\', \\'old_value\\': None, \\'new_value\\': \\'0.0\\'}, {\\'key\\': \\'min_weight_fraction_leaf\\', \\'old_value\\': None, \\'new_value\\': \\'0.0\\'}, {\\'key\\': \\'n_jobs\\', \\'old_value\\': None, \\'new_value\\': \\'None\\'}, {\\'key\\': \\'oob_score\\', \\'old_value\\': None, \\'new_value\\': \\'False\\'}, {\\'key\\': \\'verbose\\', \\'old_value\\': None, \\'new_value\\': \\'0\\'}, {\\'key\\': \\'warm_start\\', \\'old_value\\': None, \\'new_value\\': \\'False\\'}]\\' for run ID=\\'9f84e110d1b0492ab1a6f78b0cf166da\\'.\")]')]\n",
      "\n"
     ]
    },
    {
     "name": "stdout",
     "output_type": "stream",
     "text": [
      " 88%|███████████████████████████████████████████████████████████████████████████████████████████████████████████████████▎               | 44/50 [05:48<00:45,  7.55s/trial, best loss: 6.6284257482044735]"
     ]
    },
    {
     "name": "stderr",
     "output_type": "stream",
     "text": [
      "2022/05/31 14:42:23 WARNING mlflow.utils.autologging_utils: Encountered unexpected error during sklearn autologging: The following failures occurred while performing one or more logging operations: [MlflowException('Failed to perform one or more operations on the run with ID f9da6c9199534066926a1cf9f01499ea. Failed operations: [RestException(\"INVALID_PARAMETER_VALUE: Changing param values is not allowed. Params were already logged=\\'[{\\'key\\': \\'bootstrap\\', \\'old_value\\': None, \\'new_value\\': \\'True\\'}, {\\'key\\': \\'ccp_alpha\\', \\'old_value\\': None, \\'new_value\\': \\'0.0\\'}, {\\'key\\': \\'criterion\\', \\'old_value\\': None, \\'new_value\\': \\'squared_error\\'}, {\\'key\\': \\'max_features\\', \\'old_value\\': None, \\'new_value\\': \\'1.0\\'}, {\\'key\\': \\'max_leaf_nodes\\', \\'old_value\\': None, \\'new_value\\': \\'None\\'}, {\\'key\\': \\'max_samples\\', \\'old_value\\': None, \\'new_value\\': \\'None\\'}, {\\'key\\': \\'min_impurity_decrease\\', \\'old_value\\': None, \\'new_value\\': \\'0.0\\'}, {\\'key\\': \\'min_weight_fraction_leaf\\', \\'old_value\\': None, \\'new_value\\': \\'0.0\\'}, {\\'key\\': \\'n_jobs\\', \\'old_value\\': None, \\'new_value\\': \\'None\\'}, {\\'key\\': \\'oob_score\\', \\'old_value\\': None, \\'new_value\\': \\'False\\'}, {\\'key\\': \\'verbose\\', \\'old_value\\': None, \\'new_value\\': \\'0\\'}, {\\'key\\': \\'warm_start\\', \\'old_value\\': None, \\'new_value\\': \\'False\\'}]\\' for run ID=\\'f9da6c9199534066926a1cf9f01499ea\\'.\")]')]\n",
      "\n"
     ]
    },
    {
     "name": "stdout",
     "output_type": "stream",
     "text": [
      " 90%|█████████████████████████████████████████████████████████████████████████████████████████████████████████████████████▉             | 45/50 [05:53<00:34,  6.85s/trial, best loss: 6.6284257482044735]"
     ]
    },
    {
     "name": "stderr",
     "output_type": "stream",
     "text": [
      "2022/05/31 14:42:26 WARNING mlflow.utils.autologging_utils: Encountered unexpected error during sklearn autologging: The following failures occurred while performing one or more logging operations: [MlflowException('Failed to perform one or more operations on the run with ID 9fa7db278ab24a0bb9263239be2d73fa. Failed operations: [RestException(\"INVALID_PARAMETER_VALUE: Changing param values is not allowed. Params were already logged=\\'[{\\'key\\': \\'bootstrap\\', \\'old_value\\': None, \\'new_value\\': \\'True\\'}, {\\'key\\': \\'ccp_alpha\\', \\'old_value\\': None, \\'new_value\\': \\'0.0\\'}, {\\'key\\': \\'criterion\\', \\'old_value\\': None, \\'new_value\\': \\'squared_error\\'}, {\\'key\\': \\'max_features\\', \\'old_value\\': None, \\'new_value\\': \\'1.0\\'}, {\\'key\\': \\'max_leaf_nodes\\', \\'old_value\\': None, \\'new_value\\': \\'None\\'}, {\\'key\\': \\'max_samples\\', \\'old_value\\': None, \\'new_value\\': \\'None\\'}, {\\'key\\': \\'min_impurity_decrease\\', \\'old_value\\': None, \\'new_value\\': \\'0.0\\'}, {\\'key\\': \\'min_weight_fraction_leaf\\', \\'old_value\\': None, \\'new_value\\': \\'0.0\\'}, {\\'key\\': \\'n_jobs\\', \\'old_value\\': None, \\'new_value\\': \\'None\\'}, {\\'key\\': \\'oob_score\\', \\'old_value\\': None, \\'new_value\\': \\'False\\'}, {\\'key\\': \\'verbose\\', \\'old_value\\': None, \\'new_value\\': \\'0\\'}, {\\'key\\': \\'warm_start\\', \\'old_value\\': None, \\'new_value\\': \\'False\\'}]\\' for run ID=\\'9fa7db278ab24a0bb9263239be2d73fa\\'.\")]')]\n",
      "\n"
     ]
    },
    {
     "name": "stdout",
     "output_type": "stream",
     "text": [
      " 92%|████████████████████████████████████████████████████████████████████████████████████████████████████████████████████████▌          | 46/50 [05:56<00:22,  5.62s/trial, best loss: 6.6284257482044735]"
     ]
    },
    {
     "name": "stderr",
     "output_type": "stream",
     "text": [
      "2022/05/31 14:42:34 WARNING mlflow.utils.autologging_utils: Encountered unexpected error during sklearn autologging: The following failures occurred while performing one or more logging operations: [MlflowException('Failed to perform one or more operations on the run with ID 3b1ce1ca90ae4c8b835f4c708a7b0254. Failed operations: [RestException(\"INVALID_PARAMETER_VALUE: Changing param values is not allowed. Params were already logged=\\'[{\\'key\\': \\'bootstrap\\', \\'old_value\\': None, \\'new_value\\': \\'True\\'}, {\\'key\\': \\'ccp_alpha\\', \\'old_value\\': None, \\'new_value\\': \\'0.0\\'}, {\\'key\\': \\'criterion\\', \\'old_value\\': None, \\'new_value\\': \\'squared_error\\'}, {\\'key\\': \\'max_features\\', \\'old_value\\': None, \\'new_value\\': \\'1.0\\'}, {\\'key\\': \\'max_leaf_nodes\\', \\'old_value\\': None, \\'new_value\\': \\'None\\'}, {\\'key\\': \\'max_samples\\', \\'old_value\\': None, \\'new_value\\': \\'None\\'}, {\\'key\\': \\'min_impurity_decrease\\', \\'old_value\\': None, \\'new_value\\': \\'0.0\\'}, {\\'key\\': \\'min_weight_fraction_leaf\\', \\'old_value\\': None, \\'new_value\\': \\'0.0\\'}, {\\'key\\': \\'n_jobs\\', \\'old_value\\': None, \\'new_value\\': \\'None\\'}, {\\'key\\': \\'oob_score\\', \\'old_value\\': None, \\'new_value\\': \\'False\\'}, {\\'key\\': \\'verbose\\', \\'old_value\\': None, \\'new_value\\': \\'0\\'}, {\\'key\\': \\'warm_start\\', \\'old_value\\': None, \\'new_value\\': \\'False\\'}]\\' for run ID=\\'3b1ce1ca90ae4c8b835f4c708a7b0254\\'.\")]')]\n",
      "\n"
     ]
    },
    {
     "name": "stdout",
     "output_type": "stream",
     "text": [
      " 94%|███████████████████████████████████████████████████████████████████████████████████████████████████████████████████████████▏       | 47/50 [06:04<00:18,  6.31s/trial, best loss: 6.6284257482044735]"
     ]
    },
    {
     "name": "stderr",
     "output_type": "stream",
     "text": [
      "2022/05/31 14:42:39 WARNING mlflow.utils.autologging_utils: Encountered unexpected error during sklearn autologging: The following failures occurred while performing one or more logging operations: [MlflowException('Failed to perform one or more operations on the run with ID 096ea4727d044a02bf9670438571a573. Failed operations: [RestException(\"INVALID_PARAMETER_VALUE: Changing param values is not allowed. Params were already logged=\\'[{\\'key\\': \\'bootstrap\\', \\'old_value\\': None, \\'new_value\\': \\'True\\'}, {\\'key\\': \\'ccp_alpha\\', \\'old_value\\': None, \\'new_value\\': \\'0.0\\'}, {\\'key\\': \\'criterion\\', \\'old_value\\': None, \\'new_value\\': \\'squared_error\\'}, {\\'key\\': \\'max_features\\', \\'old_value\\': None, \\'new_value\\': \\'1.0\\'}, {\\'key\\': \\'max_leaf_nodes\\', \\'old_value\\': None, \\'new_value\\': \\'None\\'}, {\\'key\\': \\'max_samples\\', \\'old_value\\': None, \\'new_value\\': \\'None\\'}, {\\'key\\': \\'min_impurity_decrease\\', \\'old_value\\': None, \\'new_value\\': \\'0.0\\'}, {\\'key\\': \\'min_weight_fraction_leaf\\', \\'old_value\\': None, \\'new_value\\': \\'0.0\\'}, {\\'key\\': \\'n_jobs\\', \\'old_value\\': None, \\'new_value\\': \\'None\\'}, {\\'key\\': \\'oob_score\\', \\'old_value\\': None, \\'new_value\\': \\'False\\'}, {\\'key\\': \\'verbose\\', \\'old_value\\': None, \\'new_value\\': \\'0\\'}, {\\'key\\': \\'warm_start\\', \\'old_value\\': None, \\'new_value\\': \\'False\\'}]\\' for run ID=\\'096ea4727d044a02bf9670438571a573\\'.\")]')]\n",
      "\n"
     ]
    },
    {
     "name": "stdout",
     "output_type": "stream",
     "text": [
      " 96%|█████████████████████████████████████████████████████████████████████████████████████████████████████████████████████████████▊     | 48/50 [06:08<00:11,  5.83s/trial, best loss: 6.6284257482044735]"
     ]
    },
    {
     "name": "stderr",
     "output_type": "stream",
     "text": [
      "2022/05/31 14:42:45 WARNING mlflow.utils.autologging_utils: Encountered unexpected error during sklearn autologging: The following failures occurred while performing one or more logging operations: [MlflowException('Failed to perform one or more operations on the run with ID b5c234dc41824accb6c0d20703e77728. Failed operations: [RestException(\"INVALID_PARAMETER_VALUE: Changing param values is not allowed. Params were already logged=\\'[{\\'key\\': \\'bootstrap\\', \\'old_value\\': None, \\'new_value\\': \\'True\\'}, {\\'key\\': \\'ccp_alpha\\', \\'old_value\\': None, \\'new_value\\': \\'0.0\\'}, {\\'key\\': \\'criterion\\', \\'old_value\\': None, \\'new_value\\': \\'squared_error\\'}, {\\'key\\': \\'max_features\\', \\'old_value\\': None, \\'new_value\\': \\'1.0\\'}, {\\'key\\': \\'max_leaf_nodes\\', \\'old_value\\': None, \\'new_value\\': \\'None\\'}, {\\'key\\': \\'max_samples\\', \\'old_value\\': None, \\'new_value\\': \\'None\\'}, {\\'key\\': \\'min_impurity_decrease\\', \\'old_value\\': None, \\'new_value\\': \\'0.0\\'}, {\\'key\\': \\'min_weight_fraction_leaf\\', \\'old_value\\': None, \\'new_value\\': \\'0.0\\'}, {\\'key\\': \\'n_jobs\\', \\'old_value\\': None, \\'new_value\\': \\'None\\'}, {\\'key\\': \\'oob_score\\', \\'old_value\\': None, \\'new_value\\': \\'False\\'}, {\\'key\\': \\'verbose\\', \\'old_value\\': None, \\'new_value\\': \\'0\\'}, {\\'key\\': \\'warm_start\\', \\'old_value\\': None, \\'new_value\\': \\'False\\'}]\\' for run ID=\\'b5c234dc41824accb6c0d20703e77728\\'.\")]')]\n",
      "\n"
     ]
    },
    {
     "name": "stdout",
     "output_type": "stream",
     "text": [
      " 98%|████████████████████████████████████████████████████████████████████████████████████████████████████████████████████████████████▍  | 49/50 [06:15<00:06,  6.12s/trial, best loss: 6.6284257482044735]"
     ]
    },
    {
     "name": "stderr",
     "output_type": "stream",
     "text": [
      "2022/05/31 14:42:54 WARNING mlflow.utils.autologging_utils: Encountered unexpected error during sklearn autologging: The following failures occurred while performing one or more logging operations: [MlflowException('Failed to perform one or more operations on the run with ID 4f6becc6208a4ffc87c4daa4a760fc03. Failed operations: [RestException(\"INVALID_PARAMETER_VALUE: Changing param values is not allowed. Params were already logged=\\'[{\\'key\\': \\'bootstrap\\', \\'old_value\\': None, \\'new_value\\': \\'True\\'}, {\\'key\\': \\'ccp_alpha\\', \\'old_value\\': None, \\'new_value\\': \\'0.0\\'}, {\\'key\\': \\'criterion\\', \\'old_value\\': None, \\'new_value\\': \\'squared_error\\'}, {\\'key\\': \\'max_features\\', \\'old_value\\': None, \\'new_value\\': \\'1.0\\'}, {\\'key\\': \\'max_leaf_nodes\\', \\'old_value\\': None, \\'new_value\\': \\'None\\'}, {\\'key\\': \\'max_samples\\', \\'old_value\\': None, \\'new_value\\': \\'None\\'}, {\\'key\\': \\'min_impurity_decrease\\', \\'old_value\\': None, \\'new_value\\': \\'0.0\\'}, {\\'key\\': \\'min_weight_fraction_leaf\\', \\'old_value\\': None, \\'new_value\\': \\'0.0\\'}, {\\'key\\': \\'n_jobs\\', \\'old_value\\': None, \\'new_value\\': \\'None\\'}, {\\'key\\': \\'oob_score\\', \\'old_value\\': None, \\'new_value\\': \\'False\\'}, {\\'key\\': \\'verbose\\', \\'old_value\\': None, \\'new_value\\': \\'0\\'}, {\\'key\\': \\'warm_start\\', \\'old_value\\': None, \\'new_value\\': \\'False\\'}]\\' for run ID=\\'4f6becc6208a4ffc87c4daa4a760fc03\\'.\")]')]\n",
      "\n"
     ]
    },
    {
     "name": "stdout",
     "output_type": "stream",
     "text": [
      "100%|███████████████████████████████████████████████████████████████████████████████████████████████████████████████████████████████████| 50/50 [06:24<00:00,  7.69s/trial, best loss: 6.6284257482044735]\n"
     ]
    }
   ],
   "source": [
    "mlflow.set_experiment(\"random-forest-hyperopt\")\n",
    "hpo.run(num_trials=50, data_path='./output')"
   ]
  },
  {
   "cell_type": "markdown",
   "id": "dde7cf04-cf5b-4623-b18f-648ad1030504",
   "metadata": {},
   "source": [
    "## Q6"
   ]
  },
  {
   "cell_type": "code",
   "execution_count": 39,
   "id": "d4156dac-bce4-463d-92b3-89d61c63e420",
   "metadata": {},
   "outputs": [],
   "source": [
    "best_run = register_model.run(data_path = './output', log_top=5)"
   ]
  },
  {
   "cell_type": "code",
   "execution_count": 49,
   "id": "6819146f-0bb5-40cd-a8ea-0e87792b7f94",
   "metadata": {},
   "outputs": [],
   "source": [
    "import json\n",
    "best_run_id = json.loads(best_run.data.tags[\"mlflow.log-model.history\"])[0]['run_id']"
   ]
  },
  {
   "cell_type": "code",
   "execution_count": 52,
   "id": "05e2020c-5cc1-4e4a-9161-ace238523bc0",
   "metadata": {},
   "outputs": [
    {
     "name": "stderr",
     "output_type": "stream",
     "text": [
      "Successfully registered model 'best_model'.\n",
      "2022/05/31 15:34:41 INFO mlflow.tracking._model_registry.client: Waiting up to 300 seconds for model version to finish creation.                     Model name: best_model, version 1\n",
      "Created version '1' of model 'best_model'.\n"
     ]
    },
    {
     "data": {
      "text/plain": [
       "<ModelVersion: creation_timestamp=1654007681054, current_stage='None', description='', last_updated_timestamp=1654007681054, name='best_model', run_id='7194c8471cc44e54bcad322a5f6a441b', run_link='', source='./artifacts/3/7194c8471cc44e54bcad322a5f6a441b/artifacts/model', status='READY', status_message='', tags={}, user_id='', version='1'>"
      ]
     },
     "execution_count": 52,
     "metadata": {},
     "output_type": "execute_result"
    }
   ],
   "source": [
    "mlflow.register_model(f\"runs:/{best_run_id}/model\", name='best_model' )"
   ]
  },
  {
   "cell_type": "code",
   "execution_count": null,
   "id": "693708d8-c96f-472c-82cb-9b5368add44a",
   "metadata": {},
   "outputs": [],
   "source": []
  }
 ],
 "metadata": {
  "kernelspec": {
   "display_name": "experiment-tracking",
   "language": "python",
   "name": "experiment-tracking"
  },
  "language_info": {
   "codemirror_mode": {
    "name": "ipython",
    "version": 3
   },
   "file_extension": ".py",
   "mimetype": "text/x-python",
   "name": "python",
   "nbconvert_exporter": "python",
   "pygments_lexer": "ipython3",
   "version": "3.9.9"
  }
 },
 "nbformat": 4,
 "nbformat_minor": 5
}
